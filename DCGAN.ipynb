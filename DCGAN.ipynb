{
  "nbformat": 4,
  "nbformat_minor": 0,
  "metadata": {
    "kernelspec": {
      "name": "python3",
      "display_name": "Python 3"
    },
    "language_info": {
      "codemirror_mode": {
        "name": "ipython",
        "version": 3
      },
      "file_extension": ".py",
      "mimetype": "text/x-python",
      "name": "python",
      "nbconvert_exporter": "python",
      "pygments_lexer": "ipython3",
      "version": "3.7.1"
    },
    "colab": {
      "name": "DCGAN.ipynb",
      "provenance": [],
      "collapsed_sections": [],
      "include_colab_link": true
    },
    "accelerator": "GPU"
  },
  "cells": [
    {
      "cell_type": "markdown",
      "metadata": {
        "id": "view-in-github",
        "colab_type": "text"
      },
      "source": [
        "<a href=\"https://colab.research.google.com/github/sayakpaul/GAN-Hacks/blob/master/DCGAN.ipynb\" target=\"_parent\"><img src=\"https://colab.research.google.com/assets/colab-badge.svg\" alt=\"Open In Colab\"/></a>"
      ]
    },
    {
      "cell_type": "code",
      "metadata": {
        "id": "YJr4Ao0U6XiX",
        "colab_type": "code",
        "outputId": "7a47cf3b-177b-4aa7-f819-c63c24d9bc55",
        "colab": {
          "base_uri": "https://localhost:8080/",
          "height": 34
        }
      },
      "source": [
        "%tensorflow_version 2.x"
      ],
      "execution_count": 0,
      "outputs": [
        {
          "output_type": "stream",
          "text": [
            "TensorFlow 2.x selected.\n"
          ],
          "name": "stdout"
        }
      ]
    },
    {
      "cell_type": "code",
      "metadata": {
        "id": "E9aq9Ps56Ufj",
        "colab_type": "code",
        "colab": {}
      },
      "source": [
        "from tensorflow.keras.preprocessing import image\n",
        "from tensorflow.keras.optimizers import *\n",
        "from tensorflow.keras.layers import *\n",
        "from tensorflow.keras.models import *\n",
        "from imutils import build_montages\n",
        "from sklearn.utils import shuffle \n",
        "from tqdm import tqdm\n",
        "import matplotlib.pyplot as plt\n",
        "import tensorflow as tf\n",
        "import numpy as np\n",
        "import cv2"
      ],
      "execution_count": 0,
      "outputs": []
    },
    {
      "cell_type": "code",
      "metadata": {
        "id": "U4u06X1v6Uft",
        "colab_type": "code",
        "colab": {}
      },
      "source": [
        "tf.random.set_seed(42)\n",
        "%matplotlib inline"
      ],
      "execution_count": 0,
      "outputs": []
    },
    {
      "cell_type": "code",
      "metadata": {
        "id": "pj3Zsv8T6Uf0",
        "colab_type": "code",
        "outputId": "de92721d-ac73-4897-dc89-359a11cdb412",
        "colab": {
          "base_uri": "https://localhost:8080/",
          "height": 170
        }
      },
      "source": [
        "((X_train, _), (X_test, _)) = tf.keras.datasets.fashion_mnist.load_data()\n",
        "X_train.shape, X_test.shape"
      ],
      "execution_count": 0,
      "outputs": [
        {
          "output_type": "stream",
          "text": [
            "Downloading data from https://storage.googleapis.com/tensorflow/tf-keras-datasets/train-labels-idx1-ubyte.gz\n",
            "32768/29515 [=================================] - 0s 0us/step\n",
            "Downloading data from https://storage.googleapis.com/tensorflow/tf-keras-datasets/train-images-idx3-ubyte.gz\n",
            "26427392/26421880 [==============================] - 0s 0us/step\n",
            "Downloading data from https://storage.googleapis.com/tensorflow/tf-keras-datasets/t10k-labels-idx1-ubyte.gz\n",
            "8192/5148 [===============================================] - 0s 0us/step\n",
            "Downloading data from https://storage.googleapis.com/tensorflow/tf-keras-datasets/t10k-images-idx3-ubyte.gz\n",
            "4423680/4422102 [==============================] - 0s 0us/step\n"
          ],
          "name": "stdout"
        },
        {
          "output_type": "execute_result",
          "data": {
            "text/plain": [
              "((60000, 28, 28), (10000, 28, 28))"
            ]
          },
          "metadata": {
            "tags": []
          },
          "execution_count": 4
        }
      ]
    },
    {
      "cell_type": "code",
      "metadata": {
        "id": "QsyXZEFy6Uf7",
        "colab_type": "code",
        "colab": {}
      },
      "source": [
        "X_train = X_train.reshape(-1, 28, 28, 1)\n",
        "X_test = X_test.reshape(-1, 28, 28, 1)"
      ],
      "execution_count": 0,
      "outputs": []
    },
    {
      "cell_type": "code",
      "metadata": {
        "id": "7dBSL0MK6Uf9",
        "colab_type": "code",
        "colab": {}
      },
      "source": [
        "trainImages = np.concatenate([X_train, X_test])\n",
        "trainImages = (trainImages.astype(\"float\") - 127.5) / 127.5"
      ],
      "execution_count": 0,
      "outputs": []
    },
    {
      "cell_type": "code",
      "metadata": {
        "id": "yXXaoPML6UgB",
        "colab_type": "code",
        "colab": {}
      },
      "source": [
        "latent_dim = 100\n",
        "height = 28\n",
        "width = 28\n",
        "nb_channels = 1"
      ],
      "execution_count": 0,
      "outputs": []
    },
    {
      "cell_type": "code",
      "metadata": {
        "id": "M8bmHU2K6UgF",
        "colab_type": "code",
        "colab": {}
      },
      "source": [
        "# Generator\n",
        "def generator_network():\n",
        "    generator = Sequential()\n",
        "    inputShape = (7, 7, 64)\n",
        "    chanDim = -1\n",
        "\n",
        "    generator.add(Dense(input_dim=latent_dim, units=512))\n",
        "    generator.add(LeakyReLU())\n",
        "    generator.add(BatchNormalization())\n",
        "\n",
        "    generator.add(Dense(7 * 7 * 64))\n",
        "    generator.add(LeakyReLU())\n",
        "    generator.add(BatchNormalization())\n",
        "\n",
        "    generator.add(Reshape(inputShape))\n",
        "    generator.add(Conv2DTranspose(32, (5, 5), strides=(2, 2),\n",
        "        padding=\"same\"))\n",
        "    generator.add((LeakyReLU()))\n",
        "    generator.add(BatchNormalization(axis=chanDim))\n",
        "\n",
        "    generator.add(Conv2DTranspose(nb_channels, (5, 5), strides=(2, 2),\n",
        "        padding=\"same\", activation=\"tanh\"))\n",
        "\n",
        "    return generator"
      ],
      "execution_count": 0,
      "outputs": []
    },
    {
      "cell_type": "code",
      "metadata": {
        "id": "5KRMOU5W6UgI",
        "colab_type": "code",
        "outputId": "9cd64f96-e302-44be-ce8a-a8c466acff72",
        "colab": {
          "base_uri": "https://localhost:8080/",
          "height": 527
        }
      },
      "source": [
        "generator = generator_network()\n",
        "generator.summary()"
      ],
      "execution_count": 0,
      "outputs": [
        {
          "output_type": "stream",
          "text": [
            "Model: \"sequential\"\n",
            "_________________________________________________________________\n",
            "Layer (type)                 Output Shape              Param #   \n",
            "=================================================================\n",
            "dense (Dense)                (None, 512)               51712     \n",
            "_________________________________________________________________\n",
            "leaky_re_lu (LeakyReLU)      (None, 512)               0         \n",
            "_________________________________________________________________\n",
            "batch_normalization (BatchNo (None, 512)               2048      \n",
            "_________________________________________________________________\n",
            "dense_1 (Dense)              (None, 3136)              1608768   \n",
            "_________________________________________________________________\n",
            "leaky_re_lu_1 (LeakyReLU)    (None, 3136)              0         \n",
            "_________________________________________________________________\n",
            "batch_normalization_1 (Batch (None, 3136)              12544     \n",
            "_________________________________________________________________\n",
            "reshape (Reshape)            (None, 7, 7, 64)          0         \n",
            "_________________________________________________________________\n",
            "conv2d_transpose (Conv2DTran (None, 14, 14, 32)        51232     \n",
            "_________________________________________________________________\n",
            "leaky_re_lu_2 (LeakyReLU)    (None, 14, 14, 32)        0         \n",
            "_________________________________________________________________\n",
            "batch_normalization_2 (Batch (None, 14, 14, 32)        128       \n",
            "_________________________________________________________________\n",
            "conv2d_transpose_1 (Conv2DTr (None, 28, 28, 1)         801       \n",
            "=================================================================\n",
            "Total params: 1,727,233\n",
            "Trainable params: 1,719,873\n",
            "Non-trainable params: 7,360\n",
            "_________________________________________________________________\n"
          ],
          "name": "stdout"
        }
      ]
    },
    {
      "cell_type": "code",
      "metadata": {
        "id": "eFREf2jM6UgO",
        "colab_type": "code",
        "colab": {}
      },
      "source": [
        "# Discriminator\n",
        "def disc_network():\n",
        "    disc = Sequential()\n",
        "    inputShape = (height, width, nb_channels)\n",
        "\n",
        "    disc.add(Conv2D(32, (5, 5), padding=\"same\", strides=(2, 2),\n",
        "        input_shape=inputShape))\n",
        "    disc.add(LeakyReLU(alpha=0.2))\n",
        "\n",
        "    disc.add(Conv2D(64, (5, 5), padding=\"same\", strides=(2, 2)))\n",
        "    disc.add(LeakyReLU(alpha=0.2))\n",
        "\n",
        "    disc.add(Flatten())\n",
        "    disc.add(Dense(512))\n",
        "    disc.add(LeakyReLU(alpha=0.2))\n",
        "    disc.add(Dropout(0.3))\n",
        "    disc.add(Dense(1))\n",
        "    disc.add(Activation(\"sigmoid\"))\n",
        "    \n",
        "    return disc"
      ],
      "execution_count": 0,
      "outputs": []
    },
    {
      "cell_type": "code",
      "metadata": {
        "id": "YDIGOWKq6UgQ",
        "colab_type": "code",
        "outputId": "72b31beb-79ba-4daa-cf26-9dd9f825cf97",
        "colab": {
          "base_uri": "https://localhost:8080/",
          "height": 493
        }
      },
      "source": [
        "disc = disc_network()\n",
        "disc.summary()"
      ],
      "execution_count": 0,
      "outputs": [
        {
          "output_type": "stream",
          "text": [
            "Model: \"sequential_2\"\n",
            "_________________________________________________________________\n",
            "Layer (type)                 Output Shape              Param #   \n",
            "=================================================================\n",
            "conv2d_2 (Conv2D)            (None, 14, 14, 32)        832       \n",
            "_________________________________________________________________\n",
            "leaky_re_lu_6 (LeakyReLU)    (None, 14, 14, 32)        0         \n",
            "_________________________________________________________________\n",
            "conv2d_3 (Conv2D)            (None, 7, 7, 64)          51264     \n",
            "_________________________________________________________________\n",
            "leaky_re_lu_7 (LeakyReLU)    (None, 7, 7, 64)          0         \n",
            "_________________________________________________________________\n",
            "flatten_1 (Flatten)          (None, 3136)              0         \n",
            "_________________________________________________________________\n",
            "dense_4 (Dense)              (None, 512)               1606144   \n",
            "_________________________________________________________________\n",
            "leaky_re_lu_8 (LeakyReLU)    (None, 512)               0         \n",
            "_________________________________________________________________\n",
            "dropout_1 (Dropout)          (None, 512)               0         \n",
            "_________________________________________________________________\n",
            "dense_5 (Dense)              (None, 1)                 513       \n",
            "_________________________________________________________________\n",
            "activation_1 (Activation)    (None, 1)                 0         \n",
            "=================================================================\n",
            "Total params: 1,658,753\n",
            "Trainable params: 1,658,753\n",
            "Non-trainable params: 0\n",
            "_________________________________________________________________\n"
          ],
          "name": "stdout"
        }
      ]
    },
    {
      "cell_type": "code",
      "metadata": {
        "id": "qA-2dE8H6UgV",
        "colab_type": "code",
        "colab": {}
      },
      "source": [
        "disc_opt = RMSprop(lr=0.0008, clipvalue=1.0, decay=1e-8)\n",
        "disc.compile(optimizer=disc_opt, loss=\"binary_crossentropy\")"
      ],
      "execution_count": 0,
      "outputs": []
    },
    {
      "cell_type": "code",
      "metadata": {
        "id": "UcHC_uI_6UgY",
        "colab_type": "code",
        "colab": {}
      },
      "source": [
        "# GAN\n",
        "disc.trainable = False\n",
        "gan_input = Input(shape=(latent_dim, ))\n",
        "gan_output = disc(generator(gan_input))\n",
        "gan = Model(gan_input, gan_output)\n",
        "\n",
        "gan_opt = RMSprop(lr=0.0008, clipvalue=1.0, decay=1e-8)\n",
        "gan.compile(loss=\"binary_crossentropy\", optimizer=gan_opt)"
      ],
      "execution_count": 0,
      "outputs": []
    },
    {
      "cell_type": "code",
      "metadata": {
        "id": "pNDMYQAS6Ugb",
        "colab_type": "code",
        "outputId": "3745aede-b6bb-4634-fb3d-d0ac4db01b87",
        "colab": {
          "base_uri": "https://localhost:8080/",
          "height": 255
        }
      },
      "source": [
        "gan.summary()"
      ],
      "execution_count": 0,
      "outputs": [
        {
          "output_type": "stream",
          "text": [
            "Model: \"model\"\n",
            "_________________________________________________________________\n",
            "Layer (type)                 Output Shape              Param #   \n",
            "=================================================================\n",
            "input_1 (InputLayer)         [(None, 100)]             0         \n",
            "_________________________________________________________________\n",
            "sequential (Sequential)      (None, 28, 28, 1)         1727233   \n",
            "_________________________________________________________________\n",
            "sequential_2 (Sequential)    (None, 1)                 1658753   \n",
            "=================================================================\n",
            "Total params: 3,385,986\n",
            "Trainable params: 1,719,873\n",
            "Non-trainable params: 1,666,113\n",
            "_________________________________________________________________\n"
          ],
          "name": "stdout"
        }
      ]
    },
    {
      "cell_type": "code",
      "metadata": {
        "id": "WU5OWHyXJGRO",
        "colab_type": "code",
        "outputId": "f91b9471-f2d1-4f1d-ac40-ea31aaa6b673",
        "colab": {
          "base_uri": "https://localhost:8080/",
          "height": 530
        }
      },
      "source": [
        "disc.summary()"
      ],
      "execution_count": 0,
      "outputs": [
        {
          "output_type": "stream",
          "text": [
            "Model: \"sequential_2\"\n",
            "_________________________________________________________________\n",
            "Layer (type)                 Output Shape              Param #   \n",
            "=================================================================\n",
            "conv2d_2 (Conv2D)            (None, 14, 14, 32)        832       \n",
            "_________________________________________________________________\n",
            "leaky_re_lu_6 (LeakyReLU)    (None, 14, 14, 32)        0         \n",
            "_________________________________________________________________\n",
            "conv2d_3 (Conv2D)            (None, 7, 7, 64)          51264     \n",
            "_________________________________________________________________\n",
            "leaky_re_lu_7 (LeakyReLU)    (None, 7, 7, 64)          0         \n",
            "_________________________________________________________________\n",
            "flatten_1 (Flatten)          (None, 3136)              0         \n",
            "_________________________________________________________________\n",
            "dense_4 (Dense)              (None, 512)               1606144   \n",
            "_________________________________________________________________\n",
            "leaky_re_lu_8 (LeakyReLU)    (None, 512)               0         \n",
            "_________________________________________________________________\n",
            "dropout_1 (Dropout)          (None, 512)               0         \n",
            "_________________________________________________________________\n",
            "dense_5 (Dense)              (None, 1)                 513       \n",
            "_________________________________________________________________\n",
            "activation_1 (Activation)    (None, 1)                 0         \n",
            "=================================================================\n",
            "WARNING:tensorflow:Discrepancy between trainable weights and collected trainable weights, did you set `model.trainable` without calling `model.compile` after ?\n",
            "Total params: 3,317,506\n",
            "Trainable params: 1,658,753\n",
            "Non-trainable params: 1,658,753\n",
            "_________________________________________________________________\n"
          ],
          "name": "stdout"
        }
      ]
    },
    {
      "cell_type": "code",
      "metadata": {
        "id": "2WQMsO_56Ugd",
        "colab_type": "code",
        "colab": {}
      },
      "source": [
        "epochs = 10000\n",
        "batch_size = 20"
      ],
      "execution_count": 0,
      "outputs": []
    },
    {
      "cell_type": "code",
      "metadata": {
        "id": "KVKRE7PD6Ugg",
        "colab_type": "code",
        "outputId": "cdcc5a96-d431-44df-c221-e791393af138",
        "colab": {
          "base_uri": "https://localhost:8080/",
          "height": 374
        }
      },
      "source": [
        "start = 0\n",
        "for epoch in tqdm(range(epochs)):\n",
        "    # Sample random noise from a normal distribution\n",
        "    benchmark_noise = np.random.normal(size=(batch_size, latent_dim))\n",
        "    # Map this noise to images via the generator network\n",
        "    generated_images = generator.predict(benchmark_noise)\n",
        "    \n",
        "    # Calculate where to stop the current epoch, segregate the current batch\n",
        "    # of real images and combine them with the fake ones\n",
        "    stop = start + batch_size\n",
        "    real_images = trainImages[start:stop]\n",
        "    combined_images = np.concatenate([generated_images, real_images])\n",
        "    \n",
        "    # 1 -> Fake images, 0 -> Real images\n",
        "    # Add a bit of random noise to the labels\n",
        "    labels = np.array(([1] * batch_size) + ([0] * batch_size)).astype(\"float\")\n",
        "    labels += 0.05 * np.random.random(labels.shape)\n",
        "    \n",
        "    # Shuffle the datapoints of the newly created dataset\n",
        "    (combined_images, labels) = shuffle(combined_images, labels)\n",
        "    \n",
        "    # Train the discriminator on these new dataset\n",
        "    d_loss = disc.train_on_batch(combined_images, labels)\n",
        "    \n",
        "    # Again sample random noise from a normal distribution &\n",
        "    # set the labels to such that they resemble real images to fool\n",
        "    # discriminator\n",
        "    random_latent_vectors = np.random.normal(size=(batch_size, latent_dim))\n",
        "    fake_labels = np.array([0] * batch_size)\n",
        "    \n",
        "    # Train the GAN with this random noise and fake labels, but only\n",
        "    # update the weights of generator\n",
        "    a_loss = gan.train_on_batch(random_latent_vectors, fake_labels)\n",
        "    \n",
        "    # Set the next batch\n",
        "    start += batch_size\n",
        "    if start > len(trainImages) - batch_size:\n",
        "        start = 0\n",
        "    \n",
        "    # Logging\n",
        "    if epoch % 500 == 0:\n",
        "        print(f\"Step: {epoch} Disc Loss: {d_loss} Adv Loss: {a_loss}\")\n",
        "        images = ((generated_images * 127.5) + 127.5).astype(\"int\")\n",
        "        images = np.repeat(images, 3, axis=-1)\n",
        "        vis = build_montages(images, (28, 28), (4, 5))[0]\n",
        "        cv2.imwrite(\"vis\" + str(epoch) + \".png\", vis)"
      ],
      "execution_count": 0,
      "outputs": [
        {
          "output_type": "stream",
          "text": [
            "  0%|          | 4/10000 [00:05<10:03:27,  3.62s/it]"
          ],
          "name": "stderr"
        },
        {
          "output_type": "stream",
          "text": [
            "Step: 0 Disc Loss: 0.6991685032844543 Adv Loss: 0.15844307839870453\n"
          ],
          "name": "stdout"
        },
        {
          "output_type": "stream",
          "text": [
            "  5%|▌         | 507/10000 [00:21<05:17, 29.86it/s]"
          ],
          "name": "stderr"
        },
        {
          "output_type": "stream",
          "text": [
            "Step: 500 Disc Loss: 0.5046908259391785 Adv Loss: 0.9750447273254395\n"
          ],
          "name": "stdout"
        },
        {
          "output_type": "stream",
          "text": [
            " 10%|█         | 1006/10000 [00:38<05:18, 28.28it/s]"
          ],
          "name": "stderr"
        },
        {
          "output_type": "stream",
          "text": [
            "Step: 1000 Disc Loss: 0.5820327997207642 Adv Loss: 1.829833984375\n"
          ],
          "name": "stdout"
        },
        {
          "output_type": "stream",
          "text": [
            " 15%|█▌        | 1506/10000 [00:54<04:49, 29.31it/s]"
          ],
          "name": "stderr"
        },
        {
          "output_type": "stream",
          "text": [
            "Step: 1500 Disc Loss: 0.5375659465789795 Adv Loss: 1.6481845378875732\n"
          ],
          "name": "stdout"
        },
        {
          "output_type": "stream",
          "text": [
            " 20%|██        | 2007/10000 [01:11<04:13, 31.54it/s]"
          ],
          "name": "stderr"
        },
        {
          "output_type": "stream",
          "text": [
            "Step: 2000 Disc Loss: 0.42668160796165466 Adv Loss: 1.9152504205703735\n"
          ],
          "name": "stdout"
        },
        {
          "output_type": "stream",
          "text": [
            " 25%|██▌       | 2504/10000 [01:28<04:18, 28.99it/s]"
          ],
          "name": "stderr"
        },
        {
          "output_type": "stream",
          "text": [
            "Step: 2500 Disc Loss: 0.34985268115997314 Adv Loss: 3.4861578941345215\n"
          ],
          "name": "stdout"
        },
        {
          "output_type": "stream",
          "text": [
            " 30%|███       | 3004/10000 [01:44<03:54, 29.79it/s]"
          ],
          "name": "stderr"
        },
        {
          "output_type": "stream",
          "text": [
            "Step: 3000 Disc Loss: 0.40786147117614746 Adv Loss: 2.300001621246338\n"
          ],
          "name": "stdout"
        },
        {
          "output_type": "stream",
          "text": [
            " 35%|███▌      | 3505/10000 [02:01<03:27, 31.32it/s]"
          ],
          "name": "stderr"
        },
        {
          "output_type": "stream",
          "text": [
            "Step: 3500 Disc Loss: 0.21770362555980682 Adv Loss: 2.9143998622894287\n"
          ],
          "name": "stdout"
        },
        {
          "output_type": "stream",
          "text": [
            " 40%|████      | 4004/10000 [02:17<03:13, 31.00it/s]"
          ],
          "name": "stderr"
        },
        {
          "output_type": "stream",
          "text": [
            "Step: 4000 Disc Loss: 0.444327175617218 Adv Loss: 1.7099872827529907\n"
          ],
          "name": "stdout"
        },
        {
          "output_type": "stream",
          "text": [
            " 45%|████▌     | 4505/10000 [02:34<03:00, 30.48it/s]"
          ],
          "name": "stderr"
        },
        {
          "output_type": "stream",
          "text": [
            "Step: 4500 Disc Loss: 0.3767152726650238 Adv Loss: 2.1596970558166504\n"
          ],
          "name": "stdout"
        },
        {
          "output_type": "stream",
          "text": [
            " 50%|█████     | 5006/10000 [02:50<02:47, 29.82it/s]"
          ],
          "name": "stderr"
        },
        {
          "output_type": "stream",
          "text": [
            "Step: 5000 Disc Loss: 0.30092671513557434 Adv Loss: 2.5903656482696533\n"
          ],
          "name": "stdout"
        },
        {
          "output_type": "stream",
          "text": [
            " 55%|█████▌    | 5506/10000 [03:07<02:24, 31.06it/s]"
          ],
          "name": "stderr"
        },
        {
          "output_type": "stream",
          "text": [
            "Step: 5500 Disc Loss: 0.4961828291416168 Adv Loss: 3.1493122577667236\n"
          ],
          "name": "stdout"
        },
        {
          "output_type": "stream",
          "text": [
            " 60%|██████    | 6005/10000 [03:23<02:12, 30.04it/s]"
          ],
          "name": "stderr"
        },
        {
          "output_type": "stream",
          "text": [
            "Step: 6000 Disc Loss: 0.2980179786682129 Adv Loss: 2.5176684856414795\n"
          ],
          "name": "stdout"
        },
        {
          "output_type": "stream",
          "text": [
            " 65%|██████▌   | 6505/10000 [03:40<01:54, 30.44it/s]"
          ],
          "name": "stderr"
        },
        {
          "output_type": "stream",
          "text": [
            "Step: 6500 Disc Loss: 0.34788018465042114 Adv Loss: 2.0999114513397217\n"
          ],
          "name": "stdout"
        },
        {
          "output_type": "stream",
          "text": [
            " 70%|███████   | 7004/10000 [03:56<01:36, 31.01it/s]"
          ],
          "name": "stderr"
        },
        {
          "output_type": "stream",
          "text": [
            "Step: 7000 Disc Loss: 0.3314719498157501 Adv Loss: 2.616029739379883\n"
          ],
          "name": "stdout"
        },
        {
          "output_type": "stream",
          "text": [
            " 75%|███████▌  | 7505/10000 [04:13<01:18, 31.60it/s]"
          ],
          "name": "stderr"
        },
        {
          "output_type": "stream",
          "text": [
            "Step: 7500 Disc Loss: 0.6641215085983276 Adv Loss: 3.156559705734253\n"
          ],
          "name": "stdout"
        },
        {
          "output_type": "stream",
          "text": [
            " 80%|████████  | 8003/10000 [04:29<01:05, 30.32it/s]"
          ],
          "name": "stderr"
        },
        {
          "output_type": "stream",
          "text": [
            "Step: 8000 Disc Loss: 0.6187286376953125 Adv Loss: 2.8449575901031494\n"
          ],
          "name": "stdout"
        },
        {
          "output_type": "stream",
          "text": [
            " 85%|████████▌ | 8505/10000 [04:46<00:47, 31.56it/s]"
          ],
          "name": "stderr"
        },
        {
          "output_type": "stream",
          "text": [
            "Step: 8500 Disc Loss: 0.208227276802063 Adv Loss: 2.068176746368408\n"
          ],
          "name": "stdout"
        },
        {
          "output_type": "stream",
          "text": [
            " 90%|█████████ | 9005/10000 [05:01<00:31, 31.76it/s]"
          ],
          "name": "stderr"
        },
        {
          "output_type": "stream",
          "text": [
            "Step: 9000 Disc Loss: 0.33300063014030457 Adv Loss: 1.847934365272522\n"
          ],
          "name": "stdout"
        },
        {
          "output_type": "stream",
          "text": [
            " 95%|█████████▌| 9506/10000 [05:17<00:15, 31.78it/s]"
          ],
          "name": "stderr"
        },
        {
          "output_type": "stream",
          "text": [
            "Step: 9500 Disc Loss: 0.3657732605934143 Adv Loss: 1.3273791074752808\n"
          ],
          "name": "stdout"
        },
        {
          "output_type": "stream",
          "text": [
            "100%|██████████| 10000/10000 [05:33<00:00, 30.01it/s]\n"
          ],
          "name": "stderr"
        }
      ]
    },
    {
      "cell_type": "code",
      "metadata": {
        "id": "sadviSGyQPCI",
        "colab_type": "code",
        "outputId": "122a69aa-024e-4e76-ed4d-4982b37a6145",
        "colab": {
          "base_uri": "https://localhost:8080/",
          "height": 269
        }
      },
      "source": [
        "montage_1 =  plt.imread(\"vis5000.png\")\n",
        "plt.imshow(montage_1)\n",
        "plt.show()"
      ],
      "execution_count": 0,
      "outputs": [
        {
          "output_type": "display_data",
          "data": {
            "image/png": "[encoded data removed]",
            "text/plain": [
              "<Figure size 432x288 with 1 Axes>"
            ]
          },
          "metadata": {
            "tags": []
          }
        }
      ]
    },
    {
      "cell_type": "code",
      "metadata": {
        "id": "m3cwmuy3QYxG",
        "colab_type": "code",
        "outputId": "cc265e19-58ee-4fc1-c35b-9cc566940611",
        "colab": {
          "base_uri": "https://localhost:8080/",
          "height": 269
        }
      },
      "source": [
        "montage_2 =  plt.imread(\"vis4000.png\")\n",
        "plt.imshow(montage_2)\n",
        "plt.show()"
      ],
      "execution_count": 0,
      "outputs": [
        {
          "output_type": "display_data",
          "data": {
            "image/png": "[encoded data removed]",
            "text/plain": [
              "<Figure size 432x288 with 1 Axes>"
            ]
          },
          "metadata": {
            "tags": []
          }
        }
      ]
    }
  ]
}