{
  "nbformat": 4,
  "nbformat_minor": 0,
  "metadata": {
    "colab": {
      "name": "Semi-supervised classification with GANs",
      "provenance": [],
      "collapsed_sections": [],
      "include_colab_link": true
    },
    "kernelspec": {
      "display_name": "Python 3",
      "name": "python3"
    },
    "accelerator": "GPU"
  },
  "cells": [
    {
      "cell_type": "markdown",
      "metadata": {
        "id": "view-in-github",
        "colab_type": "text"
      },
      "source": [
        "<a href=\"https://colab.research.google.com/github/sayakpaul/GAN-Hacks/blob/master/Semi_supervised_classification_with_GANs.ipynb\" target=\"_parent\"><img src=\"https://colab.research.google.com/assets/colab-badge.svg\" alt=\"Open In Colab\"/></a>"
      ]
    },
    {
      "cell_type": "code",
      "metadata": {
        "colab_type": "code",
        "id": "lIYdn1woOS1n",
        "outputId": "6d885906-953c-4850-8e94-5a003805a03f",
        "colab": {
          "base_uri": "https://localhost:8080/",
          "height": 34
        }
      },
      "source": [
        "# TensorFlow imports\n",
        "import tensorflow as tf\n",
        "print(tf.__version__)"
      ],
      "execution_count": 0,
      "outputs": [
        {
          "output_type": "stream",
          "text": [
            "2.2.0\n"
          ],
          "name": "stdout"
        }
      ]
    },
    {
      "cell_type": "code",
      "metadata": {
        "id": "CgcunsTnxpTs",
        "colab_type": "code",
        "outputId": "25b19a13-585b-4741-a260-d89c9259645c",
        "colab": {
          "base_uri": "https://localhost:8080/",
          "height": 306
        }
      },
      "source": [
        "# Which GPU?\n",
        "!nvidia-smi"
      ],
      "execution_count": 0,
      "outputs": [
        {
          "output_type": "stream",
          "text": [
            "Fri May 15 08:25:34 2020       \n",
            "+-----------------------------------------------------------------------------+\n",
            "| NVIDIA-SMI 440.82       Driver Version: 418.67       CUDA Version: 10.1     |\n",
            "|-------------------------------+----------------------+----------------------+\n",
            "| GPU  Name        Persistence-M| Bus-Id        Disp.A | Volatile Uncorr. ECC |\n",
            "| Fan  Temp  Perf  Pwr:Usage/Cap|         Memory-Usage | GPU-Util  Compute M. |\n",
            "|===============================+======================+======================|\n",
            "|   0  Tesla K80           Off  | 00000000:00:04.0 Off |                    0 |\n",
            "| N/A   36C    P8    27W / 149W |      0MiB / 11441MiB |      0%      Default |\n",
            "+-------------------------------+----------------------+----------------------+\n",
            "                                                                               \n",
            "+-----------------------------------------------------------------------------+\n",
            "| Processes:                                                       GPU Memory |\n",
            "|  GPU       PID   Type   Process name                             Usage      |\n",
            "|=============================================================================|\n",
            "|  No running processes found                                                 |\n",
            "+-----------------------------------------------------------------------------+\n"
          ],
          "name": "stdout"
        }
      ]
    },
    {
      "cell_type": "code",
      "metadata": {
        "id": "k7nCoMmAxqDa",
        "colab_type": "code",
        "colab": {}
      },
      "source": [
        "# Other imports\n",
        "from tensorflow.keras.layers import *\n",
        "from tensorflow.keras.models import *\n",
        "from tqdm import tqdm\n",
        "import tensorflow.keras.backend as K\n",
        "import matplotlib.pyplot as plt\n",
        "import numpy as np"
      ],
      "execution_count": 0,
      "outputs": []
    },
    {
      "cell_type": "code",
      "metadata": {
        "id": "EH5L5UROx1Tg",
        "colab_type": "code",
        "outputId": "d2c46704-1ee4-495c-ca6a-15473f090104",
        "colab": {
          "base_uri": "https://localhost:8080/",
          "height": 68
        }
      },
      "source": [
        "# Dataset loading\n",
        "((X_train, y_train), (X_test, y_test)) = tf.keras.datasets.mnist.load_data()\n",
        "X_train.shape, X_test.shape"
      ],
      "execution_count": 0,
      "outputs": [
        {
          "output_type": "stream",
          "text": [
            "Downloading data from https://storage.googleapis.com/tensorflow/tf-keras-datasets/mnist.npz\n",
            "11493376/11490434 [==============================] - 0s 0us/step\n"
          ],
          "name": "stdout"
        },
        {
          "output_type": "execute_result",
          "data": {
            "text/plain": [
              "((60000, 28, 28), (10000, 28, 28))"
            ]
          },
          "metadata": {
            "tags": []
          },
          "execution_count": 4
        }
      ]
    },
    {
      "cell_type": "code",
      "metadata": {
        "id": "IKMFx_S4yWUe",
        "colab_type": "code",
        "colab": {}
      },
      "source": [
        "# Add a channel dimension\n",
        "X_train = X_train.reshape(-1, 28, 28, 1)\n",
        "X_test = X_test.reshape(-1, 28, 28, 1)"
      ],
      "execution_count": 0,
      "outputs": []
    },
    {
      "cell_type": "code",
      "metadata": {
        "id": "jPfWUL2cyYTm",
        "colab_type": "code",
        "colab": {}
      },
      "source": [
        "# Scale the pixel values to [-1, 1] range as we will be using\n",
        "# tanh activation in the Generator\n",
        "X_train = (X_train.astype(\"float32\") - 127.5) / 127.5\n",
        "X_test = (X_test.astype(\"float32\") - 127.5) / 127.5"
      ],
      "execution_count": 0,
      "outputs": []
    },
    {
      "cell_type": "code",
      "metadata": {
        "id": "ODaKM_6l2jWO",
        "colab_type": "code",
        "outputId": "64f49568-4ac5-454f-afea-e672defa79ed",
        "colab": {
          "base_uri": "https://localhost:8080/",
          "height": 34
        }
      },
      "source": [
        "# Generate subset of labeled dataset that would be used for the supervised \n",
        "# learning task (10 samples per class totalling to 100 samples)\n",
        "X_train_sub = []\n",
        "y_train_sub = []\n",
        "class_labels = np.unique(y_train)\n",
        "\n",
        "for label in class_labels:\n",
        "    x_for_class = X_train[y_train==label]\n",
        "    \n",
        "    idx = np.random.randint(0, x_for_class.shape[0], 10)\n",
        "    X_train_sub.append(x_for_class[idx])\n",
        "    y_train_sub.append([label]*10)\n",
        "\n",
        "X_train_sub = np.array(X_train_sub).reshape(-1, 28, 28, 1)\n",
        "y_train_sub = np.array(y_train_sub).reshape(-1, )\n",
        "print(X_train_sub.shape, y_train_sub.shape)"
      ],
      "execution_count": 0,
      "outputs": [
        {
          "output_type": "stream",
          "text": [
            "(100, 28, 28, 1) (100,)\n"
          ],
          "name": "stdout"
        }
      ]
    },
    {
      "cell_type": "code",
      "metadata": {
        "id": "qDRDdWOx8790",
        "colab_type": "code",
        "outputId": "a90e30c9-3a98-4e12-fa33-919703e149ed",
        "colab": {
          "base_uri": "https://localhost:8080/",
          "height": 589
        }
      },
      "source": [
        "# Visualize\n",
        "plt.figure(figsize=(10,10))\n",
        "for i in range(25):\n",
        "    plt.subplot(5,5,i+1)\n",
        "    plt.xticks([])\n",
        "    plt.yticks([])\n",
        "    plt.grid(True)\n",
        "    idx = np.random.choice(X_train_sub.shape[0], 1, replace=False)\n",
        "    plt.imshow(X_train_sub[idx].squeeze(), cmap=plt.cm.binary)\n",
        "    plt.xlabel(int(y_train_sub[idx]))\n",
        "plt.show()"
      ],
      "execution_count": 0,
      "outputs": [
        {
          "output_type": "display_data",
          "data": {
            "image/png": "[encoded data removed]",
            "text/plain": [
              "<Figure size 720x720 with 25 Axes>"
            ]
          },
          "metadata": {
            "tags": []
          }
        }
      ]
    },
    {
      "cell_type": "code",
      "metadata": {
        "id": "bjCl69OmzNxH",
        "colab_type": "code",
        "colab": {}
      },
      "source": [
        "# Generator\n",
        "# Reference: Chapter 20, GANs in Python by Jason Brownlee, Chapter 7 of GANs in Action\n",
        "def generator_network(latent_dim):\n",
        "    in_lat = Input(shape=(latent_dim,))\n",
        "\n",
        "    n_nodes = 256 * 7 * 7\n",
        "    gen = Dense(n_nodes)(in_lat)\n",
        "    gen = Reshape((7, 7, 256))(gen)\n",
        "\n",
        "    gen = Conv2DTranspose(128, (3,3), strides=(2,2), padding='same')(gen)\n",
        "    # gen = BatchNormalization()(gen)\n",
        "    gen = LeakyReLU(alpha=0.01)(gen)\n",
        "\n",
        "    gen = Conv2DTranspose(64, (3,3), strides=(1,1), padding='same')(gen)\n",
        "    # gen = BatchNormalization()(gen)\n",
        "    gen = LeakyReLU(alpha=0.01)(gen)\n",
        "\n",
        "    out_layer = Conv2DTranspose(1, (3,3), strides=(2, 2), activation='tanh', padding='same')(gen)\n",
        "\n",
        "    model = Model(in_lat, out_layer)\n",
        "\n",
        "    return model"
      ],
      "execution_count": 0,
      "outputs": []
    },
    {
      "cell_type": "code",
      "metadata": {
        "id": "lIdQ1Tm5zq87",
        "colab_type": "code",
        "colab": {}
      },
      "source": [
        "# Discriminator: Shared weights between the supervised classifier and standard discriminator \n",
        "# as found in GANs\n",
        "# Reference: Chapter 20, GANs in Python by Jason Brownlee, Chapter 7 of GANs in Action\n",
        "\n",
        "# Activation function for the discriminator as proposed in https://arxiv.org/abs/1606.03498\n",
        "def custom_activation(output):\n",
        "\tlogexpsum = K.sum(K.exp(output), axis=-1, keepdims=True)\n",
        "\tresult = logexpsum / (logexpsum + 1.0)\n",
        "\treturn result\n",
        "\n",
        "def disc_network(in_shape=(28,28,1), n_classes=10):\n",
        "\tin_image = Input(shape=in_shape)\n",
        " \n",
        "\tfe = Conv2D(32, (3,3), strides=(2,2), padding='same')(in_image)\n",
        "\tfe = LeakyReLU(alpha=0.01)(fe)\n",
        "\n",
        "\tfe = Conv2D(64, (3,3), strides=(2,2), padding='same')(fe)\n",
        "\tfe = BatchNormalization()(fe)\n",
        "\tfe = LeakyReLU(alpha=0.01)(fe)\n",
        "\tfe = Conv2D(128, (3,3), strides=(2,2), padding='same')(fe)\n",
        "\tfe = BatchNormalization()(fe)\n",
        "\tfe = LeakyReLU(alpha=0.01)(fe)\n",
        "\n",
        "\tfe = Dropout(0.4)(fe)\n",
        "\tfe = Flatten()(fe)\n",
        "\n",
        "\tfe = Dense(n_classes)(fe)\n",
        "\n",
        "\t# Supervised classifier\n",
        "\tc_out_layer = Activation('softmax')(fe)\n",
        "\tc_model = Model(in_image, c_out_layer)\n",
        "\n",
        "\t# Traditional discriminator as found in GANs\n",
        "\td_out_layer = Lambda(custom_activation)(fe)\n",
        "\td_model = Model(in_image, d_out_layer)\n",
        "\n",
        "\treturn d_model, c_model"
      ],
      "execution_count": 0,
      "outputs": []
    },
    {
      "cell_type": "code",
      "metadata": {
        "id": "Xqqtn4Zn1-dP",
        "colab_type": "code",
        "outputId": "106bb6c0-d16b-4e79-e3dd-3ca2286d5eec",
        "colab": {
          "base_uri": "https://localhost:8080/",
          "height": 425
        }
      },
      "source": [
        "# Generator network\n",
        "generator = generator_network(latent_dim=128)\n",
        "generator.summary()"
      ],
      "execution_count": 0,
      "outputs": [
        {
          "output_type": "stream",
          "text": [
            "Model: \"model\"\n",
            "_________________________________________________________________\n",
            "Layer (type)                 Output Shape              Param #   \n",
            "=================================================================\n",
            "input_1 (InputLayer)         [(None, 128)]             0         \n",
            "_________________________________________________________________\n",
            "dense (Dense)                (None, 12544)             1618176   \n",
            "_________________________________________________________________\n",
            "reshape (Reshape)            (None, 7, 7, 256)         0         \n",
            "_________________________________________________________________\n",
            "conv2d_transpose (Conv2DTran (None, 14, 14, 128)       295040    \n",
            "_________________________________________________________________\n",
            "leaky_re_lu (LeakyReLU)      (None, 14, 14, 128)       0         \n",
            "_________________________________________________________________\n",
            "conv2d_transpose_1 (Conv2DTr (None, 14, 14, 64)        73792     \n",
            "_________________________________________________________________\n",
            "leaky_re_lu_1 (LeakyReLU)    (None, 14, 14, 64)        0         \n",
            "_________________________________________________________________\n",
            "conv2d_transpose_2 (Conv2DTr (None, 28, 28, 1)         577       \n",
            "=================================================================\n",
            "Total params: 1,987,585\n",
            "Trainable params: 1,987,585\n",
            "Non-trainable params: 0\n",
            "_________________________________________________________________\n"
          ],
          "name": "stdout"
        }
      ]
    },
    {
      "cell_type": "code",
      "metadata": {
        "id": "ZZ1kVQ1uIJdW",
        "colab_type": "code",
        "outputId": "e786d4ef-c0ae-4b28-ca91-796a34f76787",
        "colab": {
          "base_uri": "https://localhost:8080/",
          "height": 1000
        }
      },
      "source": [
        "# Discriminator and classifier\n",
        "disc_network, classifier = disc_network()\n",
        "print(disc_network.summary())\n",
        "print(classifier.summary())"
      ],
      "execution_count": 0,
      "outputs": [
        {
          "output_type": "stream",
          "text": [
            "Model: \"model_2\"\n",
            "_________________________________________________________________\n",
            "Layer (type)                 Output Shape              Param #   \n",
            "=================================================================\n",
            "input_2 (InputLayer)         [(None, 28, 28, 1)]       0         \n",
            "_________________________________________________________________\n",
            "conv2d (Conv2D)              (None, 14, 14, 32)        320       \n",
            "_________________________________________________________________\n",
            "leaky_re_lu_2 (LeakyReLU)    (None, 14, 14, 32)        0         \n",
            "_________________________________________________________________\n",
            "conv2d_1 (Conv2D)            (None, 7, 7, 64)          18496     \n",
            "_________________________________________________________________\n",
            "batch_normalization (BatchNo (None, 7, 7, 64)          256       \n",
            "_________________________________________________________________\n",
            "leaky_re_lu_3 (LeakyReLU)    (None, 7, 7, 64)          0         \n",
            "_________________________________________________________________\n",
            "conv2d_2 (Conv2D)            (None, 4, 4, 128)         73856     \n",
            "_________________________________________________________________\n",
            "batch_normalization_1 (Batch (None, 4, 4, 128)         512       \n",
            "_________________________________________________________________\n",
            "leaky_re_lu_4 (LeakyReLU)    (None, 4, 4, 128)         0         \n",
            "_________________________________________________________________\n",
            "dropout (Dropout)            (None, 4, 4, 128)         0         \n",
            "_________________________________________________________________\n",
            "flatten (Flatten)            (None, 2048)              0         \n",
            "_________________________________________________________________\n",
            "dense_1 (Dense)              (None, 10)                20490     \n",
            "_________________________________________________________________\n",
            "lambda (Lambda)              (None, 1)                 0         \n",
            "=================================================================\n",
            "Total params: 113,930\n",
            "Trainable params: 113,546\n",
            "Non-trainable params: 384\n",
            "_________________________________________________________________\n",
            "None\n",
            "Model: \"model_1\"\n",
            "_________________________________________________________________\n",
            "Layer (type)                 Output Shape              Param #   \n",
            "=================================================================\n",
            "input_2 (InputLayer)         [(None, 28, 28, 1)]       0         \n",
            "_________________________________________________________________\n",
            "conv2d (Conv2D)              (None, 14, 14, 32)        320       \n",
            "_________________________________________________________________\n",
            "leaky_re_lu_2 (LeakyReLU)    (None, 14, 14, 32)        0         \n",
            "_________________________________________________________________\n",
            "conv2d_1 (Conv2D)            (None, 7, 7, 64)          18496     \n",
            "_________________________________________________________________\n",
            "batch_normalization (BatchNo (None, 7, 7, 64)          256       \n",
            "_________________________________________________________________\n",
            "leaky_re_lu_3 (LeakyReLU)    (None, 7, 7, 64)          0         \n",
            "_________________________________________________________________\n",
            "conv2d_2 (Conv2D)            (None, 4, 4, 128)         73856     \n",
            "_________________________________________________________________\n",
            "batch_normalization_1 (Batch (None, 4, 4, 128)         512       \n",
            "_________________________________________________________________\n",
            "leaky_re_lu_4 (LeakyReLU)    (None, 4, 4, 128)         0         \n",
            "_________________________________________________________________\n",
            "dropout (Dropout)            (None, 4, 4, 128)         0         \n",
            "_________________________________________________________________\n",
            "flatten (Flatten)            (None, 2048)              0         \n",
            "_________________________________________________________________\n",
            "dense_1 (Dense)              (None, 10)                20490     \n",
            "_________________________________________________________________\n",
            "activation (Activation)      (None, 10)                0         \n",
            "=================================================================\n",
            "Total params: 113,930\n",
            "Trainable params: 113,546\n",
            "Non-trainable params: 384\n",
            "_________________________________________________________________\n",
            "None\n"
          ],
          "name": "stdout"
        }
      ]
    },
    {
      "cell_type": "code",
      "metadata": {
        "id": "GJiskT-AkL6G",
        "colab_type": "code",
        "outputId": "7a05f451-6437-4f11-d0e0-ba338f61c541",
        "colab": {
          "base_uri": "https://localhost:8080/",
          "height": 68
        }
      },
      "source": [
        "# Run forward passes\n",
        "print(classifier(np.expand_dims(X_train_sub[0], 0)).shape)\n",
        "print(disc_network(np.expand_dims(X_train_sub[0], 0)).shape)\n",
        "print(generator(np.random.normal(size=(1, 128))).shape)"
      ],
      "execution_count": 0,
      "outputs": [
        {
          "output_type": "stream",
          "text": [
            "(1, 10)\n",
            "(1, 1)\n",
            "(1, 28, 28, 1)\n"
          ],
          "name": "stdout"
        }
      ]
    },
    {
      "cell_type": "code",
      "metadata": {
        "id": "3E6kj1nFITVY",
        "colab_type": "code",
        "colab": {}
      },
      "source": [
        "# Define the optimizers\n",
        "c_optimizer = tf.keras.optimizers.Adam(lr=0.0002, beta_1=0.5)\n",
        "d_optimizer = tf.keras.optimizers.Adam(lr=0.0002, beta_1=0.5)\n",
        "g_optimizer = tf.keras.optimizers.Adam(lr=0.0002, beta_1=0.5)"
      ],
      "execution_count": 0,
      "outputs": []
    },
    {
      "cell_type": "code",
      "metadata": {
        "id": "71fBu9pcOwLM",
        "colab_type": "code",
        "colab": {}
      },
      "source": [
        "# Define the loss functions\n",
        "classifier_loss_fn = tf.keras.losses.SparseCategoricalCrossentropy()\n",
        "disc_loss_fn = tf.keras.losses.BinaryCrossentropy()\n",
        "gan_loss_fn = tf.keras.losses.BinaryCrossentropy()"
      ],
      "execution_count": 0,
      "outputs": []
    },
    {
      "cell_type": "code",
      "metadata": {
        "id": "dxKWwyRARo7W",
        "colab_type": "code",
        "colab": {}
      },
      "source": [
        "# Convert to TensorFlow dataset for performance\n",
        "labeled_subset = (\n",
        "    tf.data.Dataset\n",
        "    .from_tensor_slices((X_train_sub, y_train_sub))\n",
        "    .shuffle(100)\n",
        "    .batch(16)\n",
        "    .prefetch(tf.data.experimental.AUTOTUNE)\n",
        "    \n",
        ")\n",
        "\n",
        "unlabeled_dataset = (\n",
        "    tf.data.Dataset\n",
        "    .from_tensor_slices((X_train))\n",
        "    .shuffle(100)\n",
        "    .batch(8)\n",
        "    .prefetch(tf.data.experimental.AUTOTUNE)\n",
        ")"
      ],
      "execution_count": 0,
      "outputs": []
    },
    {
      "cell_type": "markdown",
      "metadata": {
        "id": "lzz5yeF8608j",
        "colab_type": "text"
      },
      "source": [
        "The shared weights of the classifier and the discriminator would be updated on a set of 32 images:\n",
        "- 16 images from the set of only hundred labeled examples.\n",
        "- 8 images from the unlabeled examples.\n",
        "- 8 fake images generated by the generator. "
      ]
    },
    {
      "cell_type": "code",
      "metadata": {
        "id": "Jj0LyOGCn9vf",
        "colab_type": "code",
        "colab": {}
      },
      "source": [
        "@tf.function\n",
        "def train_classifier(images, labels, classifier, classifier_loss_fn):\n",
        "    with tf.GradientTape() as tape:\n",
        "        logits = classifier(images)\n",
        "        classification_loss = classifier_loss_fn(labels, logits)\n",
        "    \n",
        "    grads = tape.gradient(classification_loss, classifier.trainable_weights)\n",
        "    \n",
        "    return classification_loss, grads\n",
        "\n",
        "@tf.function\n",
        "def train_disc(images, labels, disc_network, disc_loss_fn):\n",
        "    with tf.GradientTape() as tape:\n",
        "        logits = disc_network(images)\n",
        "        disc_loss = disc_loss_fn(labels, logits)\n",
        "    \n",
        "    grads = tape.gradient(disc_loss, disc_network.trainable_weights)\n",
        "    \n",
        "    return disc_loss, grads\n",
        "\n",
        "@tf.function\n",
        "def train_gen(random_latent_vectors, labels, disc_network, generator, gan_loss_fn):\n",
        "    with tf.GradientTape() as tape:\n",
        "        logits = disc_network(generator(random_latent_vectors))\n",
        "        g_loss = gan_loss_fn(labels, logits)\n",
        "\n",
        "    grads = tape.gradient(g_loss, generator.trainable_weights)\n",
        "    \n",
        "    return g_loss, grads"
      ],
      "execution_count": 0,
      "outputs": []
    },
    {
      "cell_type": "code",
      "metadata": {
        "id": "6l9glv66coUK",
        "colab_type": "code",
        "outputId": "7bfb4f89-7be6-435a-a725-ab8e9f216a9a",
        "colab": {
          "base_uri": "https://localhost:8080/",
          "height": 1000
        }
      },
      "source": [
        "################## Training ##################\n",
        "##############################################\n",
        "for epoch in tqdm(range(7500)):\n",
        "    # Define objects to calculate the mean losses across each epoch\n",
        "    c_loss_mean = tf.keras.metrics.Mean()\n",
        "    d_loss_mean = tf.keras.metrics.Mean()\n",
        "    g_loss_mean = tf.keras.metrics.Mean()\n",
        "    \n",
        "    # Train the classifier\n",
        "    # for (images, labels) in labeled_subset:\n",
        "    images, labels = next(iter(labeled_subset)) # 16 images\n",
        "    classification_loss, grads = train_classifier(images, labels, classifier, classifier_loss_fn)\n",
        "    c_optimizer.apply_gradients(zip(grads, classifier.trainable_weights)) # The shared weights of the classifier and the discriminator will therefore be updated on a total of 32 images\n",
        "    c_loss_mean.update_state(classification_loss)\n",
        "        \n",
        "    ## Train discriminator and generator ##\n",
        "    #######################################\n",
        "\n",
        "    # Train discriminator\n",
        "    real_images = next(iter(unlabeled_dataset)) # 8 real images\n",
        "    batch_size = tf.shape(real_images)[0]\n",
        "    random_latent_vectors = tf.random.normal(shape=(batch_size, 128))\n",
        "    \n",
        "    generated_images = generator(random_latent_vectors) # 8 fake images\n",
        "    combined_images = tf.concat([generated_images, real_images], axis=0) # 16 total images\n",
        "    combined_labels = tf.concat(\n",
        "        [tf.zeros((batch_size, 1)), tf.ones((batch_size, 1))], axis=0\n",
        "    ) # 0 -> Fake images, 1 -> Real images\n",
        "\n",
        "    disc_loss, grads = train_disc(combined_images, combined_labels, disc_network, disc_loss_fn)\n",
        "    d_optimizer.apply_gradients(zip(grads, disc_network.trainable_weights)) # The shared weights of the classifier and the discriminator will therefore be updated on a total of 32 images\n",
        "    d_loss_mean.update_state(disc_loss)\n",
        "\n",
        "    # Train the generator via signals from the discriminator\n",
        "    random_latent_vectors = tf.random.normal(shape=(batch_size*4, 128)) # 32 images\n",
        "    misleading_labels = tf.ones((batch_size*4, 1))\n",
        "\n",
        "    g_loss, grads = train_gen(random_latent_vectors, misleading_labels, disc_network, generator, gan_loss_fn)\n",
        "    g_optimizer.apply_gradients(zip(grads, generator.trainable_weights))\n",
        "    g_loss_mean.update_state(g_loss)\n",
        "        \n",
        "    if epoch % 100 == 0:\n",
        "        print(\"epoch: {} classification loss: {:.3f} dicriminator loss: {:.3f} gan loss:{:.3f}\".format(\n",
        "            epoch,\n",
        "            c_loss_mean.result(),\n",
        "            d_loss_mean.result(),\n",
        "            g_loss_mean.result()\n",
        "        ))"
      ],
      "execution_count": 0,
      "outputs": [
        {
          "output_type": "stream",
          "text": [
            "  0%|          | 1/7500 [00:01<3:32:53,  1.70s/it]"
          ],
          "name": "stderr"
        },
        {
          "output_type": "stream",
          "text": [
            "epoch: 0 classification loss: 2.296 dicriminator loss: 1.247 gan loss:0.095\n"
          ],
          "name": "stdout"
        },
        {
          "output_type": "stream",
          "text": [
            "  1%|▏         | 102/7500 [00:21<24:24,  5.05it/s]"
          ],
          "name": "stderr"
        },
        {
          "output_type": "stream",
          "text": [
            "epoch: 100 classification loss: 0.479 dicriminator loss: 0.026 gan loss:3.863\n"
          ],
          "name": "stdout"
        },
        {
          "output_type": "stream",
          "text": [
            "  3%|▎         | 201/7500 [00:41<24:49,  4.90it/s]"
          ],
          "name": "stderr"
        },
        {
          "output_type": "stream",
          "text": [
            "epoch: 200 classification loss: 0.085 dicriminator loss: 0.651 gan loss:1.852\n"
          ],
          "name": "stdout"
        },
        {
          "output_type": "stream",
          "text": [
            "  4%|▍         | 301/7500 [01:01<23:45,  5.05it/s]"
          ],
          "name": "stderr"
        },
        {
          "output_type": "stream",
          "text": [
            "epoch: 300 classification loss: 0.074 dicriminator loss: 0.520 gan loss:1.841\n"
          ],
          "name": "stdout"
        },
        {
          "output_type": "stream",
          "text": [
            "  5%|▌         | 402/7500 [01:21<23:35,  5.01it/s]"
          ],
          "name": "stderr"
        },
        {
          "output_type": "stream",
          "text": [
            "epoch: 400 classification loss: 0.034 dicriminator loss: 0.652 gan loss:0.615\n"
          ],
          "name": "stdout"
        },
        {
          "output_type": "stream",
          "text": [
            "  7%|▋         | 502/7500 [01:41<22:50,  5.11it/s]"
          ],
          "name": "stderr"
        },
        {
          "output_type": "stream",
          "text": [
            "epoch: 500 classification loss: 0.095 dicriminator loss: 0.498 gan loss:1.214\n"
          ],
          "name": "stdout"
        },
        {
          "output_type": "stream",
          "text": [
            "  8%|▊         | 602/7500 [02:01<22:54,  5.02it/s]"
          ],
          "name": "stderr"
        },
        {
          "output_type": "stream",
          "text": [
            "epoch: 600 classification loss: 0.015 dicriminator loss: 0.685 gan loss:1.149\n"
          ],
          "name": "stdout"
        },
        {
          "output_type": "stream",
          "text": [
            "  9%|▉         | 701/7500 [02:20<22:44,  4.98it/s]"
          ],
          "name": "stderr"
        },
        {
          "output_type": "stream",
          "text": [
            "epoch: 700 classification loss: 0.012 dicriminator loss: 0.651 gan loss:0.987\n"
          ],
          "name": "stdout"
        },
        {
          "output_type": "stream",
          "text": [
            " 11%|█         | 802/7500 [02:41<21:42,  5.14it/s]"
          ],
          "name": "stderr"
        },
        {
          "output_type": "stream",
          "text": [
            "epoch: 800 classification loss: 0.010 dicriminator loss: 0.711 gan loss:1.516\n"
          ],
          "name": "stdout"
        },
        {
          "output_type": "stream",
          "text": [
            " 12%|█▏        | 901/7500 [03:01<22:05,  4.98it/s]"
          ],
          "name": "stderr"
        },
        {
          "output_type": "stream",
          "text": [
            "epoch: 900 classification loss: 0.008 dicriminator loss: 0.404 gan loss:1.643\n"
          ],
          "name": "stdout"
        },
        {
          "output_type": "stream",
          "text": [
            " 13%|█▎        | 1001/7500 [03:21<21:38,  5.01it/s]"
          ],
          "name": "stderr"
        },
        {
          "output_type": "stream",
          "text": [
            "epoch: 1000 classification loss: 0.012 dicriminator loss: 0.460 gan loss:1.218\n"
          ],
          "name": "stdout"
        },
        {
          "output_type": "stream",
          "text": [
            " 15%|█▍        | 1102/7500 [03:41<21:45,  4.90it/s]"
          ],
          "name": "stderr"
        },
        {
          "output_type": "stream",
          "text": [
            "epoch: 1100 classification loss: 0.006 dicriminator loss: 0.431 gan loss:1.942\n"
          ],
          "name": "stdout"
        },
        {
          "output_type": "stream",
          "text": [
            " 16%|█▌        | 1202/7500 [04:01<20:42,  5.07it/s]"
          ],
          "name": "stderr"
        },
        {
          "output_type": "stream",
          "text": [
            "epoch: 1200 classification loss: 0.018 dicriminator loss: 0.429 gan loss:1.768\n"
          ],
          "name": "stdout"
        },
        {
          "output_type": "stream",
          "text": [
            " 17%|█▋        | 1301/7500 [04:21<21:02,  4.91it/s]"
          ],
          "name": "stderr"
        },
        {
          "output_type": "stream",
          "text": [
            "epoch: 1300 classification loss: 0.007 dicriminator loss: 0.332 gan loss:1.371\n"
          ],
          "name": "stdout"
        },
        {
          "output_type": "stream",
          "text": [
            " 19%|█▊        | 1401/7500 [04:41<20:28,  4.96it/s]"
          ],
          "name": "stderr"
        },
        {
          "output_type": "stream",
          "text": [
            "epoch: 1400 classification loss: 0.003 dicriminator loss: 0.299 gan loss:1.767\n"
          ],
          "name": "stdout"
        },
        {
          "output_type": "stream",
          "text": [
            " 20%|██        | 1501/7500 [05:01<20:18,  4.92it/s]"
          ],
          "name": "stderr"
        },
        {
          "output_type": "stream",
          "text": [
            "epoch: 1500 classification loss: 0.007 dicriminator loss: 0.449 gan loss:2.181\n"
          ],
          "name": "stdout"
        },
        {
          "output_type": "stream",
          "text": [
            " 21%|██▏       | 1601/7500 [05:21<19:56,  4.93it/s]"
          ],
          "name": "stderr"
        },
        {
          "output_type": "stream",
          "text": [
            "epoch: 1600 classification loss: 0.010 dicriminator loss: 0.327 gan loss:1.117\n"
          ],
          "name": "stdout"
        },
        {
          "output_type": "stream",
          "text": [
            " 23%|██▎       | 1702/7500 [05:42<19:33,  4.94it/s]"
          ],
          "name": "stderr"
        },
        {
          "output_type": "stream",
          "text": [
            "epoch: 1700 classification loss: 0.005 dicriminator loss: 0.404 gan loss:1.412\n"
          ],
          "name": "stdout"
        },
        {
          "output_type": "stream",
          "text": [
            " 24%|██▍       | 1802/7500 [06:02<19:15,  4.93it/s]"
          ],
          "name": "stderr"
        },
        {
          "output_type": "stream",
          "text": [
            "epoch: 1800 classification loss: 0.001 dicriminator loss: 0.083 gan loss:1.713\n"
          ],
          "name": "stdout"
        },
        {
          "output_type": "stream",
          "text": [
            " 25%|██▌       | 1901/7500 [06:22<19:04,  4.89it/s]"
          ],
          "name": "stderr"
        },
        {
          "output_type": "stream",
          "text": [
            "epoch: 1900 classification loss: 0.005 dicriminator loss: 0.409 gan loss:2.277\n"
          ],
          "name": "stdout"
        },
        {
          "output_type": "stream",
          "text": [
            " 27%|██▋       | 2001/7500 [06:43<18:26,  4.97it/s]"
          ],
          "name": "stderr"
        },
        {
          "output_type": "stream",
          "text": [
            "epoch: 2000 classification loss: 0.003 dicriminator loss: 0.153 gan loss:1.876\n"
          ],
          "name": "stdout"
        },
        {
          "output_type": "stream",
          "text": [
            " 28%|██▊       | 2102/7500 [07:03<18:03,  4.98it/s]"
          ],
          "name": "stderr"
        },
        {
          "output_type": "stream",
          "text": [
            "epoch: 2100 classification loss: 0.001 dicriminator loss: 0.211 gan loss:1.940\n"
          ],
          "name": "stdout"
        },
        {
          "output_type": "stream",
          "text": [
            " 29%|██▉       | 2202/7500 [07:23<17:34,  5.03it/s]"
          ],
          "name": "stderr"
        },
        {
          "output_type": "stream",
          "text": [
            "epoch: 2200 classification loss: 0.001 dicriminator loss: 0.126 gan loss:2.485\n"
          ],
          "name": "stdout"
        },
        {
          "output_type": "stream",
          "text": [
            " 31%|███       | 2301/7500 [07:43<17:34,  4.93it/s]"
          ],
          "name": "stderr"
        },
        {
          "output_type": "stream",
          "text": [
            "epoch: 2300 classification loss: 0.001 dicriminator loss: 0.167 gan loss:1.345\n"
          ],
          "name": "stdout"
        },
        {
          "output_type": "stream",
          "text": [
            " 32%|███▏      | 2402/7500 [08:03<16:58,  5.00it/s]"
          ],
          "name": "stderr"
        },
        {
          "output_type": "stream",
          "text": [
            "epoch: 2400 classification loss: 0.001 dicriminator loss: 0.436 gan loss:2.051\n"
          ],
          "name": "stdout"
        },
        {
          "output_type": "stream",
          "text": [
            " 33%|███▎      | 2502/7500 [08:23<16:12,  5.14it/s]"
          ],
          "name": "stderr"
        },
        {
          "output_type": "stream",
          "text": [
            "epoch: 2500 classification loss: 0.001 dicriminator loss: 0.135 gan loss:3.063\n"
          ],
          "name": "stdout"
        },
        {
          "output_type": "stream",
          "text": [
            " 35%|███▍      | 2601/7500 [08:43<16:16,  5.01it/s]"
          ],
          "name": "stderr"
        },
        {
          "output_type": "stream",
          "text": [
            "epoch: 2600 classification loss: 0.001 dicriminator loss: 0.434 gan loss:1.797\n"
          ],
          "name": "stdout"
        },
        {
          "output_type": "stream",
          "text": [
            " 36%|███▌      | 2702/7500 [09:04<16:00,  5.00it/s]"
          ],
          "name": "stderr"
        },
        {
          "output_type": "stream",
          "text": [
            "epoch: 2700 classification loss: 0.001 dicriminator loss: 0.358 gan loss:1.409\n"
          ],
          "name": "stdout"
        },
        {
          "output_type": "stream",
          "text": [
            " 37%|███▋      | 2802/7500 [09:24<15:27,  5.06it/s]"
          ],
          "name": "stderr"
        },
        {
          "output_type": "stream",
          "text": [
            "epoch: 2800 classification loss: 0.001 dicriminator loss: 0.233 gan loss:2.771\n"
          ],
          "name": "stdout"
        },
        {
          "output_type": "stream",
          "text": [
            " 39%|███▊      | 2901/7500 [09:44<15:31,  4.94it/s]"
          ],
          "name": "stderr"
        },
        {
          "output_type": "stream",
          "text": [
            "epoch: 2900 classification loss: 0.000 dicriminator loss: 0.267 gan loss:3.227\n"
          ],
          "name": "stdout"
        },
        {
          "output_type": "stream",
          "text": [
            " 40%|████      | 3001/7500 [10:04<15:25,  4.86it/s]"
          ],
          "name": "stderr"
        },
        {
          "output_type": "stream",
          "text": [
            "epoch: 3000 classification loss: 0.001 dicriminator loss: 0.368 gan loss:3.106\n"
          ],
          "name": "stdout"
        },
        {
          "output_type": "stream",
          "text": [
            " 41%|████▏     | 3102/7500 [10:24<14:36,  5.02it/s]"
          ],
          "name": "stderr"
        },
        {
          "output_type": "stream",
          "text": [
            "epoch: 3100 classification loss: 0.000 dicriminator loss: 0.315 gan loss:2.677\n"
          ],
          "name": "stdout"
        },
        {
          "output_type": "stream",
          "text": [
            " 43%|████▎     | 3201/7500 [10:44<14:11,  5.05it/s]"
          ],
          "name": "stderr"
        },
        {
          "output_type": "stream",
          "text": [
            "epoch: 3200 classification loss: 0.000 dicriminator loss: 0.200 gan loss:1.925\n"
          ],
          "name": "stdout"
        },
        {
          "output_type": "stream",
          "text": [
            " 44%|████▍     | 3301/7500 [11:04<13:58,  5.01it/s]"
          ],
          "name": "stderr"
        },
        {
          "output_type": "stream",
          "text": [
            "epoch: 3300 classification loss: 0.000 dicriminator loss: 0.119 gan loss:2.962\n"
          ],
          "name": "stdout"
        },
        {
          "output_type": "stream",
          "text": [
            " 45%|████▌     | 3402/7500 [11:24<13:50,  4.93it/s]"
          ],
          "name": "stderr"
        },
        {
          "output_type": "stream",
          "text": [
            "epoch: 3400 classification loss: 0.001 dicriminator loss: 0.359 gan loss:3.104\n"
          ],
          "name": "stdout"
        },
        {
          "output_type": "stream",
          "text": [
            " 47%|████▋     | 3502/7500 [11:44<13:19,  5.00it/s]"
          ],
          "name": "stderr"
        },
        {
          "output_type": "stream",
          "text": [
            "epoch: 3500 classification loss: 0.000 dicriminator loss: 0.273 gan loss:2.321\n"
          ],
          "name": "stdout"
        },
        {
          "output_type": "stream",
          "text": [
            " 48%|████▊     | 3601/7500 [12:05<13:13,  4.91it/s]"
          ],
          "name": "stderr"
        },
        {
          "output_type": "stream",
          "text": [
            "epoch: 3600 classification loss: 0.000 dicriminator loss: 0.217 gan loss:2.250\n"
          ],
          "name": "stdout"
        },
        {
          "output_type": "stream",
          "text": [
            " 49%|████▉     | 3702/7500 [12:25<12:32,  5.05it/s]"
          ],
          "name": "stderr"
        },
        {
          "output_type": "stream",
          "text": [
            "epoch: 3700 classification loss: 0.000 dicriminator loss: 0.337 gan loss:2.053\n"
          ],
          "name": "stdout"
        },
        {
          "output_type": "stream",
          "text": [
            " 51%|█████     | 3801/7500 [12:45<12:25,  4.96it/s]"
          ],
          "name": "stderr"
        },
        {
          "output_type": "stream",
          "text": [
            "epoch: 3800 classification loss: 0.000 dicriminator loss: 0.207 gan loss:1.396\n"
          ],
          "name": "stdout"
        },
        {
          "output_type": "stream",
          "text": [
            " 52%|█████▏    | 3901/7500 [13:05<11:53,  5.04it/s]"
          ],
          "name": "stderr"
        },
        {
          "output_type": "stream",
          "text": [
            "epoch: 3900 classification loss: 0.000 dicriminator loss: 0.195 gan loss:3.388\n"
          ],
          "name": "stdout"
        },
        {
          "output_type": "stream",
          "text": [
            " 53%|█████▎    | 4002/7500 [13:25<11:39,  5.00it/s]"
          ],
          "name": "stderr"
        },
        {
          "output_type": "stream",
          "text": [
            "epoch: 4000 classification loss: 0.000 dicriminator loss: 0.183 gan loss:2.865\n"
          ],
          "name": "stdout"
        },
        {
          "output_type": "stream",
          "text": [
            " 55%|█████▍    | 4101/7500 [13:45<11:20,  4.99it/s]"
          ],
          "name": "stderr"
        },
        {
          "output_type": "stream",
          "text": [
            "epoch: 4100 classification loss: 0.000 dicriminator loss: 0.207 gan loss:3.039\n"
          ],
          "name": "stdout"
        },
        {
          "output_type": "stream",
          "text": [
            " 56%|█████▌    | 4202/7500 [14:05<11:00,  5.00it/s]"
          ],
          "name": "stderr"
        },
        {
          "output_type": "stream",
          "text": [
            "epoch: 4200 classification loss: 0.000 dicriminator loss: 0.175 gan loss:1.599\n"
          ],
          "name": "stdout"
        },
        {
          "output_type": "stream",
          "text": [
            " 57%|█████▋    | 4302/7500 [14:26<10:49,  4.92it/s]"
          ],
          "name": "stderr"
        },
        {
          "output_type": "stream",
          "text": [
            "epoch: 4300 classification loss: 0.000 dicriminator loss: 0.211 gan loss:2.937\n"
          ],
          "name": "stdout"
        },
        {
          "output_type": "stream",
          "text": [
            " 59%|█████▊    | 4401/7500 [14:45<10:20,  4.99it/s]"
          ],
          "name": "stderr"
        },
        {
          "output_type": "stream",
          "text": [
            "epoch: 4400 classification loss: 0.000 dicriminator loss: 0.455 gan loss:1.393\n"
          ],
          "name": "stdout"
        },
        {
          "output_type": "stream",
          "text": [
            " 60%|██████    | 4502/7500 [15:06<10:08,  4.93it/s]"
          ],
          "name": "stderr"
        },
        {
          "output_type": "stream",
          "text": [
            "epoch: 4500 classification loss: 0.000 dicriminator loss: 0.123 gan loss:2.467\n"
          ],
          "name": "stdout"
        },
        {
          "output_type": "stream",
          "text": [
            " 61%|██████▏   | 4601/7500 [15:26<09:42,  4.97it/s]"
          ],
          "name": "stderr"
        },
        {
          "output_type": "stream",
          "text": [
            "epoch: 4600 classification loss: 0.000 dicriminator loss: 0.251 gan loss:2.894\n"
          ],
          "name": "stdout"
        },
        {
          "output_type": "stream",
          "text": [
            " 63%|██████▎   | 4702/7500 [15:46<09:10,  5.08it/s]"
          ],
          "name": "stderr"
        },
        {
          "output_type": "stream",
          "text": [
            "epoch: 4700 classification loss: 0.000 dicriminator loss: 0.266 gan loss:2.754\n"
          ],
          "name": "stdout"
        },
        {
          "output_type": "stream",
          "text": [
            " 64%|██████▍   | 4802/7500 [16:06<09:05,  4.94it/s]"
          ],
          "name": "stderr"
        },
        {
          "output_type": "stream",
          "text": [
            "epoch: 4800 classification loss: 0.000 dicriminator loss: 0.843 gan loss:1.226\n"
          ],
          "name": "stdout"
        },
        {
          "output_type": "stream",
          "text": [
            " 65%|██████▌   | 4902/7500 [16:27<08:48,  4.91it/s]"
          ],
          "name": "stderr"
        },
        {
          "output_type": "stream",
          "text": [
            "epoch: 4900 classification loss: 0.000 dicriminator loss: 0.263 gan loss:3.650\n"
          ],
          "name": "stdout"
        },
        {
          "output_type": "stream",
          "text": [
            " 67%|██████▋   | 5001/7500 [16:47<08:29,  4.90it/s]"
          ],
          "name": "stderr"
        },
        {
          "output_type": "stream",
          "text": [
            "epoch: 5000 classification loss: 0.000 dicriminator loss: 0.059 gan loss:3.386\n"
          ],
          "name": "stdout"
        },
        {
          "output_type": "stream",
          "text": [
            " 68%|██████▊   | 5101/7500 [17:07<08:09,  4.90it/s]"
          ],
          "name": "stderr"
        },
        {
          "output_type": "stream",
          "text": [
            "epoch: 5100 classification loss: 0.000 dicriminator loss: 0.195 gan loss:2.337\n"
          ],
          "name": "stdout"
        },
        {
          "output_type": "stream",
          "text": [
            " 69%|██████▉   | 5201/7500 [17:27<07:40,  5.00it/s]"
          ],
          "name": "stderr"
        },
        {
          "output_type": "stream",
          "text": [
            "epoch: 5200 classification loss: 0.000 dicriminator loss: 0.214 gan loss:2.894\n"
          ],
          "name": "stdout"
        },
        {
          "output_type": "stream",
          "text": [
            " 71%|███████   | 5301/7500 [17:47<07:23,  4.96it/s]"
          ],
          "name": "stderr"
        },
        {
          "output_type": "stream",
          "text": [
            "epoch: 5300 classification loss: 0.000 dicriminator loss: 0.085 gan loss:3.421\n"
          ],
          "name": "stdout"
        },
        {
          "output_type": "stream",
          "text": [
            " 72%|███████▏  | 5401/7500 [18:07<06:57,  5.03it/s]"
          ],
          "name": "stderr"
        },
        {
          "output_type": "stream",
          "text": [
            "epoch: 5400 classification loss: 0.000 dicriminator loss: 0.196 gan loss:2.272\n"
          ],
          "name": "stdout"
        },
        {
          "output_type": "stream",
          "text": [
            " 73%|███████▎  | 5502/7500 [18:27<06:24,  5.19it/s]"
          ],
          "name": "stderr"
        },
        {
          "output_type": "stream",
          "text": [
            "epoch: 5500 classification loss: 0.000 dicriminator loss: 0.160 gan loss:3.685\n"
          ],
          "name": "stdout"
        },
        {
          "output_type": "stream",
          "text": [
            " 75%|███████▍  | 5602/7500 [18:47<06:15,  5.05it/s]"
          ],
          "name": "stderr"
        },
        {
          "output_type": "stream",
          "text": [
            "epoch: 5600 classification loss: 0.000 dicriminator loss: 0.048 gan loss:3.063\n"
          ],
          "name": "stdout"
        },
        {
          "output_type": "stream",
          "text": [
            " 76%|███████▌  | 5702/7500 [19:07<05:58,  5.01it/s]"
          ],
          "name": "stderr"
        },
        {
          "output_type": "stream",
          "text": [
            "epoch: 5700 classification loss: 0.000 dicriminator loss: 0.038 gan loss:3.700\n"
          ],
          "name": "stdout"
        },
        {
          "output_type": "stream",
          "text": [
            " 77%|███████▋  | 5801/7500 [19:26<05:48,  4.87it/s]"
          ],
          "name": "stderr"
        },
        {
          "output_type": "stream",
          "text": [
            "epoch: 5800 classification loss: 0.000 dicriminator loss: 0.292 gan loss:1.979\n"
          ],
          "name": "stdout"
        },
        {
          "output_type": "stream",
          "text": [
            " 79%|███████▊  | 5902/7500 [19:47<05:18,  5.02it/s]"
          ],
          "name": "stderr"
        },
        {
          "output_type": "stream",
          "text": [
            "epoch: 5900 classification loss: 0.000 dicriminator loss: 0.324 gan loss:2.544\n"
          ],
          "name": "stdout"
        },
        {
          "output_type": "stream",
          "text": [
            " 80%|████████  | 6002/7500 [20:06<05:00,  4.99it/s]"
          ],
          "name": "stderr"
        },
        {
          "output_type": "stream",
          "text": [
            "epoch: 6000 classification loss: 0.000 dicriminator loss: 0.334 gan loss:3.646\n"
          ],
          "name": "stdout"
        },
        {
          "output_type": "stream",
          "text": [
            " 81%|████████▏ | 6101/7500 [20:26<04:36,  5.05it/s]"
          ],
          "name": "stderr"
        },
        {
          "output_type": "stream",
          "text": [
            "epoch: 6100 classification loss: 0.000 dicriminator loss: 0.095 gan loss:4.248\n"
          ],
          "name": "stdout"
        },
        {
          "output_type": "stream",
          "text": [
            " 83%|████████▎ | 6202/7500 [20:47<04:13,  5.12it/s]"
          ],
          "name": "stderr"
        },
        {
          "output_type": "stream",
          "text": [
            "epoch: 6200 classification loss: 0.000 dicriminator loss: 0.237 gan loss:3.198\n"
          ],
          "name": "stdout"
        },
        {
          "output_type": "stream",
          "text": [
            " 84%|████████▍ | 6301/7500 [21:06<04:03,  4.93it/s]"
          ],
          "name": "stderr"
        },
        {
          "output_type": "stream",
          "text": [
            "epoch: 6300 classification loss: 0.000 dicriminator loss: 0.494 gan loss:3.282\n"
          ],
          "name": "stdout"
        },
        {
          "output_type": "stream",
          "text": [
            " 85%|████████▌ | 6402/7500 [21:27<03:37,  5.04it/s]"
          ],
          "name": "stderr"
        },
        {
          "output_type": "stream",
          "text": [
            "epoch: 6400 classification loss: 0.000 dicriminator loss: 0.345 gan loss:3.137\n"
          ],
          "name": "stdout"
        },
        {
          "output_type": "stream",
          "text": [
            " 87%|████████▋ | 6502/7500 [21:46<03:19,  5.01it/s]"
          ],
          "name": "stderr"
        },
        {
          "output_type": "stream",
          "text": [
            "epoch: 6500 classification loss: 0.000 dicriminator loss: 0.087 gan loss:2.884\n"
          ],
          "name": "stdout"
        },
        {
          "output_type": "stream",
          "text": [
            " 88%|████████▊ | 6601/7500 [22:06<02:55,  5.14it/s]"
          ],
          "name": "stderr"
        },
        {
          "output_type": "stream",
          "text": [
            "epoch: 6600 classification loss: 0.000 dicriminator loss: 0.350 gan loss:2.345\n"
          ],
          "name": "stdout"
        },
        {
          "output_type": "stream",
          "text": [
            " 89%|████████▉ | 6701/7500 [22:25<02:38,  5.06it/s]"
          ],
          "name": "stderr"
        },
        {
          "output_type": "stream",
          "text": [
            "epoch: 6700 classification loss: 0.000 dicriminator loss: 0.095 gan loss:3.918\n"
          ],
          "name": "stdout"
        },
        {
          "output_type": "stream",
          "text": [
            " 91%|█████████ | 6802/7500 [22:45<02:17,  5.09it/s]"
          ],
          "name": "stderr"
        },
        {
          "output_type": "stream",
          "text": [
            "epoch: 6800 classification loss: 0.000 dicriminator loss: 0.179 gan loss:3.326\n"
          ],
          "name": "stdout"
        },
        {
          "output_type": "stream",
          "text": [
            " 92%|█████████▏| 6902/7500 [23:05<01:58,  5.05it/s]"
          ],
          "name": "stderr"
        },
        {
          "output_type": "stream",
          "text": [
            "epoch: 6900 classification loss: 0.000 dicriminator loss: 0.257 gan loss:2.005\n"
          ],
          "name": "stdout"
        },
        {
          "output_type": "stream",
          "text": [
            " 93%|█████████▎| 7002/7500 [23:25<01:38,  5.06it/s]"
          ],
          "name": "stderr"
        },
        {
          "output_type": "stream",
          "text": [
            "epoch: 7000 classification loss: 0.000 dicriminator loss: 0.287 gan loss:2.987\n"
          ],
          "name": "stdout"
        },
        {
          "output_type": "stream",
          "text": [
            " 95%|█████████▍| 7101/7500 [23:45<01:18,  5.10it/s]"
          ],
          "name": "stderr"
        },
        {
          "output_type": "stream",
          "text": [
            "epoch: 7100 classification loss: 0.000 dicriminator loss: 0.517 gan loss:2.179\n"
          ],
          "name": "stdout"
        },
        {
          "output_type": "stream",
          "text": [
            " 96%|█████████▌| 7201/7500 [24:05<00:59,  5.05it/s]"
          ],
          "name": "stderr"
        },
        {
          "output_type": "stream",
          "text": [
            "epoch: 7200 classification loss: 0.000 dicriminator loss: 0.078 gan loss:2.580\n"
          ],
          "name": "stdout"
        },
        {
          "output_type": "stream",
          "text": [
            " 97%|█████████▋| 7302/7500 [24:25<00:38,  5.10it/s]"
          ],
          "name": "stderr"
        },
        {
          "output_type": "stream",
          "text": [
            "epoch: 7300 classification loss: 0.000 dicriminator loss: 0.180 gan loss:2.356\n"
          ],
          "name": "stdout"
        },
        {
          "output_type": "stream",
          "text": [
            " 99%|█████████▊| 7402/7500 [24:44<00:19,  5.05it/s]"
          ],
          "name": "stderr"
        },
        {
          "output_type": "stream",
          "text": [
            "epoch: 7400 classification loss: 0.000 dicriminator loss: 0.117 gan loss:3.948\n"
          ],
          "name": "stdout"
        },
        {
          "output_type": "stream",
          "text": [
            "100%|██████████| 7500/7500 [25:03<00:00,  4.99it/s]\n"
          ],
          "name": "stderr"
        }
      ]
    },
    {
      "cell_type": "code",
      "metadata": {
        "id": "mFlg2IeFDbyQ",
        "colab_type": "code",
        "outputId": "54f0854d-ba27-40b1-f020-64796c0ac6fb",
        "colab": {
          "base_uri": "https://localhost:8080/",
          "height": 34
        }
      },
      "source": [
        "# Performance on the entire training set\n",
        "accuracy_metric = tf.keras.metrics.SparseCategoricalAccuracy()\n",
        "accuracy_metric.update_state(y_train, classifier.predict(X_train))\n",
        "print(\"Accuracy for the full training set {:.3f}%\".format(accuracy_metric.result().numpy()*100))"
      ],
      "execution_count": 0,
      "outputs": [
        {
          "output_type": "stream",
          "text": [
            "Accuracy for the full training set 75.950%\n"
          ],
          "name": "stdout"
        }
      ]
    },
    {
      "cell_type": "code",
      "metadata": {
        "id": "BWzSJv-MEZdo",
        "colab_type": "code",
        "outputId": "7ed78144-01dd-4be0-8e61-f917e05af245",
        "colab": {
          "base_uri": "https://localhost:8080/",
          "height": 34
        }
      },
      "source": [
        "# Performance on the entire test set\n",
        "accuracy_metric = tf.keras.metrics.SparseCategoricalAccuracy()\n",
        "accuracy_metric.update_state(y_test, classifier.predict(X_test))\n",
        "print(\"Accuracy for the full test set {:.3f}%\".format(accuracy_metric.result().numpy()*100))"
      ],
      "execution_count": 0,
      "outputs": [
        {
          "output_type": "stream",
          "text": [
            "Accuracy for the full test set 76.010%\n"
          ],
          "name": "stdout"
        }
      ]
    },
    {
      "cell_type": "markdown",
      "metadata": {
        "id": "cfgVmIsjlZv7",
        "colab_type": "text"
      },
      "source": [
        "Training for longer would have enhanced this performance even more but _we would need to be careful there to not make the model overfit in that process_. Let's now see how a fully supervised classifier would have done with just 100 labled images.  "
      ]
    },
    {
      "cell_type": "code",
      "metadata": {
        "id": "IOomorwyn7F1",
        "colab_type": "code",
        "colab": {}
      },
      "source": [
        "test_ds = (\n",
        "    tf.data.Dataset\n",
        "    .from_tensor_slices((X_test, y_test))\n",
        "    .shuffle(100)\n",
        "    .batch(16)\n",
        "    .prefetch(tf.data.experimental.AUTOTUNE)\n",
        ")"
      ],
      "execution_count": 0,
      "outputs": []
    },
    {
      "cell_type": "code",
      "metadata": {
        "id": "0Qeckmh0llL0",
        "colab_type": "code",
        "outputId": "c6c518a0-3f3c-44df-cb35-b3faee4d36d6",
        "colab": {
          "base_uri": "https://localhost:8080/",
          "height": 1000
        }
      },
      "source": [
        "# Just the classifier\n",
        "_, classifier = disc_network()\n",
        "classifier.compile(loss=\"sparse_categorical_crossentropy\", metrics=[\"accuracy\"], optimizer=\"adam\")\n",
        "\n",
        "# An EarlyStopping callback for preventing overfitting\n",
        "es = tf.keras.callbacks.EarlyStopping(monitor=\"val_loss\", patience=2, verbose=2, restore_best_weights=True)\n",
        "\n",
        "# Train the model\n",
        "classifier.fit(labeled_subset,\n",
        "               validation_data=test_ds,\n",
        "               epochs=50,\n",
        "               callbacks=[es])"
      ],
      "execution_count": 0,
      "outputs": [
        {
          "output_type": "stream",
          "text": [
            "Epoch 1/50\n",
            "7/7 [==============================] - 2s 319ms/step - loss: 2.4855 - accuracy: 0.2200 - val_loss: 2.2490 - val_accuracy: 0.2803\n",
            "Epoch 2/50\n",
            "7/7 [==============================] - 2s 297ms/step - loss: 0.8860 - accuracy: 0.7300 - val_loss: 2.2019 - val_accuracy: 0.3351\n",
            "Epoch 3/50\n",
            "7/7 [==============================] - 2s 301ms/step - loss: 0.3363 - accuracy: 0.9300 - val_loss: 2.1652 - val_accuracy: 0.4759\n",
            "Epoch 4/50\n",
            "7/7 [==============================] - 2s 289ms/step - loss: 0.2425 - accuracy: 0.9600 - val_loss: 2.1368 - val_accuracy: 0.4564\n",
            "Epoch 5/50\n",
            "7/7 [==============================] - 2s 267ms/step - loss: 0.1478 - accuracy: 0.9900 - val_loss: 2.1174 - val_accuracy: 0.3308\n",
            "Epoch 6/50\n",
            "7/7 [==============================] - 2s 268ms/step - loss: 0.0708 - accuracy: 1.0000 - val_loss: 2.1032 - val_accuracy: 0.4010\n",
            "Epoch 7/50\n",
            "7/7 [==============================] - 2s 266ms/step - loss: 0.0543 - accuracy: 1.0000 - val_loss: 2.0922 - val_accuracy: 0.4477\n",
            "Epoch 8/50\n",
            "7/7 [==============================] - 2s 266ms/step - loss: 0.0274 - accuracy: 1.0000 - val_loss: 2.0825 - val_accuracy: 0.4268\n",
            "Epoch 9/50\n",
            "7/7 [==============================] - 2s 271ms/step - loss: 0.0278 - accuracy: 1.0000 - val_loss: 2.0715 - val_accuracy: 0.4227\n",
            "Epoch 10/50\n",
            "7/7 [==============================] - 2s 265ms/step - loss: 0.0159 - accuracy: 1.0000 - val_loss: 2.0604 - val_accuracy: 0.4338\n",
            "Epoch 11/50\n",
            "7/7 [==============================] - 2s 267ms/step - loss: 0.0198 - accuracy: 1.0000 - val_loss: 2.0470 - val_accuracy: 0.4451\n",
            "Epoch 12/50\n",
            "7/7 [==============================] - 2s 266ms/step - loss: 0.0127 - accuracy: 1.0000 - val_loss: 2.0366 - val_accuracy: 0.4364\n",
            "Epoch 13/50\n",
            "7/7 [==============================] - 2s 267ms/step - loss: 0.0127 - accuracy: 1.0000 - val_loss: 2.0232 - val_accuracy: 0.4445\n",
            "Epoch 14/50\n",
            "7/7 [==============================] - 2s 274ms/step - loss: 0.0084 - accuracy: 1.0000 - val_loss: 2.0064 - val_accuracy: 0.4668\n",
            "Epoch 15/50\n",
            "7/7 [==============================] - 2s 273ms/step - loss: 0.0099 - accuracy: 1.0000 - val_loss: 1.9905 - val_accuracy: 0.4813\n",
            "Epoch 16/50\n",
            "7/7 [==============================] - 2s 270ms/step - loss: 0.0070 - accuracy: 1.0000 - val_loss: 1.9741 - val_accuracy: 0.4864\n",
            "Epoch 17/50\n",
            "7/7 [==============================] - 2s 266ms/step - loss: 0.0063 - accuracy: 1.0000 - val_loss: 1.9563 - val_accuracy: 0.4927\n",
            "Epoch 18/50\n",
            "7/7 [==============================] - 2s 262ms/step - loss: 0.0107 - accuracy: 1.0000 - val_loss: 1.9402 - val_accuracy: 0.4867\n",
            "Epoch 19/50\n",
            "7/7 [==============================] - 2s 268ms/step - loss: 0.0084 - accuracy: 1.0000 - val_loss: 1.9346 - val_accuracy: 0.4355\n",
            "Epoch 20/50\n",
            "7/7 [==============================] - 2s 267ms/step - loss: 0.0078 - accuracy: 1.0000 - val_loss: 1.9175 - val_accuracy: 0.4379\n",
            "Epoch 21/50\n",
            "7/7 [==============================] - 2s 263ms/step - loss: 0.0061 - accuracy: 1.0000 - val_loss: 1.8951 - val_accuracy: 0.4631\n",
            "Epoch 22/50\n",
            "7/7 [==============================] - 2s 266ms/step - loss: 0.0054 - accuracy: 1.0000 - val_loss: 1.8655 - val_accuracy: 0.5102\n",
            "Epoch 23/50\n",
            "7/7 [==============================] - 2s 267ms/step - loss: 0.0052 - accuracy: 1.0000 - val_loss: 1.8386 - val_accuracy: 0.5378\n",
            "Epoch 24/50\n",
            "7/7 [==============================] - 2s 269ms/step - loss: 0.0053 - accuracy: 1.0000 - val_loss: 1.8129 - val_accuracy: 0.5513\n",
            "Epoch 25/50\n",
            "7/7 [==============================] - 2s 267ms/step - loss: 0.0032 - accuracy: 1.0000 - val_loss: 1.7869 - val_accuracy: 0.5680\n",
            "Epoch 26/50\n",
            "7/7 [==============================] - 2s 271ms/step - loss: 0.0033 - accuracy: 1.0000 - val_loss: 1.7603 - val_accuracy: 0.5863\n",
            "Epoch 27/50\n",
            "7/7 [==============================] - 2s 268ms/step - loss: 0.0036 - accuracy: 1.0000 - val_loss: 1.7340 - val_accuracy: 0.5985\n",
            "Epoch 28/50\n",
            "7/7 [==============================] - 2s 267ms/step - loss: 0.0030 - accuracy: 1.0000 - val_loss: 1.7077 - val_accuracy: 0.6054\n",
            "Epoch 29/50\n",
            "7/7 [==============================] - 2s 268ms/step - loss: 0.0025 - accuracy: 1.0000 - val_loss: 1.6806 - val_accuracy: 0.6139\n",
            "Epoch 30/50\n",
            "7/7 [==============================] - 2s 270ms/step - loss: 0.0045 - accuracy: 1.0000 - val_loss: 1.6543 - val_accuracy: 0.6187\n",
            "Epoch 31/50\n",
            "7/7 [==============================] - 2s 269ms/step - loss: 0.0028 - accuracy: 1.0000 - val_loss: 1.6328 - val_accuracy: 0.6028\n",
            "Epoch 32/50\n",
            "7/7 [==============================] - 2s 266ms/step - loss: 0.0030 - accuracy: 1.0000 - val_loss: 1.6059 - val_accuracy: 0.6018\n",
            "Epoch 33/50\n",
            "7/7 [==============================] - 2s 267ms/step - loss: 0.0033 - accuracy: 1.0000 - val_loss: 1.5748 - val_accuracy: 0.6135\n",
            "Epoch 34/50\n",
            "7/7 [==============================] - 2s 267ms/step - loss: 0.0044 - accuracy: 1.0000 - val_loss: 1.5409 - val_accuracy: 0.6352\n",
            "Epoch 35/50\n",
            "7/7 [==============================] - 2s 268ms/step - loss: 0.0025 - accuracy: 1.0000 - val_loss: 1.5075 - val_accuracy: 0.6528\n",
            "Epoch 36/50\n",
            "7/7 [==============================] - 2s 267ms/step - loss: 0.0024 - accuracy: 1.0000 - val_loss: 1.4742 - val_accuracy: 0.6642\n",
            "Epoch 37/50\n",
            "7/7 [==============================] - 2s 271ms/step - loss: 0.0029 - accuracy: 1.0000 - val_loss: 1.4397 - val_accuracy: 0.6753\n",
            "Epoch 38/50\n",
            "7/7 [==============================] - 2s 269ms/step - loss: 0.0032 - accuracy: 1.0000 - val_loss: 1.4057 - val_accuracy: 0.6857\n",
            "Epoch 39/50\n",
            "7/7 [==============================] - 2s 269ms/step - loss: 0.0019 - accuracy: 1.0000 - val_loss: 1.3731 - val_accuracy: 0.6919\n",
            "Epoch 40/50\n",
            "7/7 [==============================] - 2s 267ms/step - loss: 0.0019 - accuracy: 1.0000 - val_loss: 1.3394 - val_accuracy: 0.7004\n",
            "Epoch 41/50\n",
            "7/7 [==============================] - 2s 264ms/step - loss: 0.0020 - accuracy: 1.0000 - val_loss: 1.3070 - val_accuracy: 0.7039\n",
            "Epoch 42/50\n",
            "7/7 [==============================] - 2s 269ms/step - loss: 0.0016 - accuracy: 1.0000 - val_loss: 1.2752 - val_accuracy: 0.7046\n",
            "Epoch 43/50\n",
            "7/7 [==============================] - 2s 267ms/step - loss: 0.0027 - accuracy: 1.0000 - val_loss: 1.2468 - val_accuracy: 0.7048\n",
            "Epoch 44/50\n",
            "7/7 [==============================] - 2s 265ms/step - loss: 0.0015 - accuracy: 1.0000 - val_loss: 1.2159 - val_accuracy: 0.7069\n",
            "Epoch 45/50\n",
            "7/7 [==============================] - 2s 265ms/step - loss: 0.0015 - accuracy: 1.0000 - val_loss: 1.1843 - val_accuracy: 0.7108\n",
            "Epoch 46/50\n",
            "7/7 [==============================] - 2s 268ms/step - loss: 0.0015 - accuracy: 1.0000 - val_loss: 1.1526 - val_accuracy: 0.7161\n",
            "Epoch 47/50\n",
            "7/7 [==============================] - 2s 270ms/step - loss: 0.0013 - accuracy: 1.0000 - val_loss: 1.1225 - val_accuracy: 0.7196\n",
            "Epoch 48/50\n",
            "7/7 [==============================] - 2s 266ms/step - loss: 0.0015 - accuracy: 1.0000 - val_loss: 1.0942 - val_accuracy: 0.7241\n",
            "Epoch 49/50\n",
            "7/7 [==============================] - 2s 268ms/step - loss: 0.0011 - accuracy: 1.0000 - val_loss: 1.0684 - val_accuracy: 0.7275\n",
            "Epoch 50/50\n",
            "7/7 [==============================] - 2s 268ms/step - loss: 0.0013 - accuracy: 1.0000 - val_loss: 1.0431 - val_accuracy: 0.7306\n"
          ],
          "name": "stdout"
        },
        {
          "output_type": "execute_result",
          "data": {
            "text/plain": [
              "<tensorflow.python.keras.callbacks.History at 0x7f1a41945748>"
            ]
          },
          "metadata": {
            "tags": []
          },
          "execution_count": 28
        }
      ]
    },
    {
      "cell_type": "markdown",
      "metadata": {
        "id": "wi8S4NAFpQA_",
        "colab_type": "text"
      },
      "source": [
        "If you run into errors due to this line - `_, classifier = disc_network()`, just rerun `disc_network()` method."
      ]
    },
    {
      "cell_type": "code",
      "metadata": {
        "id": "dUC1RymXtCKY",
        "colab_type": "code",
        "outputId": "a0d7341d-cb7f-43db-d472-e73f31416ea5",
        "colab": {
          "base_uri": "https://localhost:8080/",
          "height": 85
        }
      },
      "source": [
        "print(\"Accuracy on the full training dataset: {:.3f}%\".format(classifier.evaluate(X_train, y_train)[1]*100))\n",
        "print(\"Accuracy on the full training dataset: {:.3f}%\".format(classifier.evaluate(X_test, y_test)[1]*100))"
      ],
      "execution_count": 0,
      "outputs": [
        {
          "output_type": "stream",
          "text": [
            "1875/1875 [==============================] - 6s 3ms/step - loss: 1.0614 - accuracy: 0.7245\n",
            "Accuracy on the full training dataset: 72.447%\n",
            "313/313 [==============================] - 1s 3ms/step - loss: 1.0431 - accuracy: 0.7306\n",
            "Accuracy on the full training dataset: 73.060%\n"
          ],
          "name": "stdout"
        }
      ]
    }
  ]
}