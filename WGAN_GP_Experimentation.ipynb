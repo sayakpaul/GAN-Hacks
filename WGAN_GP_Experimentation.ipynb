{
  "nbformat": 4,
  "nbformat_minor": 0,
  "metadata": {
    "kernelspec": {
      "name": "python3",
      "display_name": "Python 3"
    },
    "language_info": {
      "codemirror_mode": {
        "name": "ipython",
        "version": 3
      },
      "file_extension": ".py",
      "mimetype": "text/x-python",
      "name": "python",
      "nbconvert_exporter": "python",
      "pygments_lexer": "ipython3",
      "version": "3.7.1"
    },
    "colab": {
      "name": "WGAN_GP_Experimentation.ipynb",
      "provenance": [],
      "collapsed_sections": [],
      "include_colab_link": true
    },
    "accelerator": "GPU"
  },
  "cells": [
    {
      "cell_type": "markdown",
      "metadata": {
        "id": "view-in-github",
        "colab_type": "text"
      },
      "source": [
        "<a href=\"https://colab.research.google.com/github/sayakpaul/GAN-Hacks/blob/master/WGAN_GP_Experimentation.ipynb\" target=\"_parent\"><img src=\"https://colab.research.google.com/assets/colab-badge.svg\" alt=\"Open In Colab\"/></a>"
      ]
    },
    {
      "cell_type": "code",
      "metadata": {
        "id": "YJr4Ao0U6XiX",
        "colab_type": "code",
        "outputId": "1ce5d10a-097f-4916-8388-c81133020f75",
        "colab": {
          "base_uri": "https://localhost:8080/",
          "height": 34
        }
      },
      "source": [
        "# Select TensorFlow 2 backend\n",
        "%tensorflow_version 2.x"
      ],
      "execution_count": 1,
      "outputs": [
        {
          "output_type": "stream",
          "text": [
            "TensorFlow 2.x selected.\n"
          ],
          "name": "stdout"
        }
      ]
    },
    {
      "cell_type": "code",
      "metadata": {
        "id": "7rciOpdKhJaP",
        "colab_type": "code",
        "outputId": "900b001c-2253-4718-cdd8-425672e2f12c",
        "colab": {
          "base_uri": "https://localhost:8080/",
          "height": 306
        }
      },
      "source": [
        "# I'm training on a GPU!\n",
        "!nvidia-smi"
      ],
      "execution_count": 2,
      "outputs": [
        {
          "output_type": "stream",
          "text": [
            "Thu Mar 19 11:50:54 2020       \n",
            "+-----------------------------------------------------------------------------+\n",
            "| NVIDIA-SMI 440.59       Driver Version: 418.67       CUDA Version: 10.1     |\n",
            "|-------------------------------+----------------------+----------------------+\n",
            "| GPU  Name        Persistence-M| Bus-Id        Disp.A | Volatile Uncorr. ECC |\n",
            "| Fan  Temp  Perf  Pwr:Usage/Cap|         Memory-Usage | GPU-Util  Compute M. |\n",
            "|===============================+======================+======================|\n",
            "|   0  Tesla K80           Off  | 00000000:00:04.0 Off |                    0 |\n",
            "| N/A   37C    P8    29W / 149W |      0MiB / 11441MiB |      0%      Default |\n",
            "+-------------------------------+----------------------+----------------------+\n",
            "                                                                               \n",
            "+-----------------------------------------------------------------------------+\n",
            "| Processes:                                                       GPU Memory |\n",
            "|  GPU       PID   Type   Process name                             Usage      |\n",
            "|=============================================================================|\n",
            "|  No running processes found                                                 |\n",
            "+-----------------------------------------------------------------------------+\n"
          ],
          "name": "stdout"
        }
      ]
    },
    {
      "cell_type": "code",
      "metadata": {
        "id": "E9aq9Ps56Ufj",
        "colab_type": "code",
        "colab": {}
      },
      "source": [
        "# Imports\n",
        "from tensorflow.keras.preprocessing import image\n",
        "from tensorflow.keras.optimizers import *\n",
        "from tensorflow.keras.layers import *\n",
        "from tensorflow.keras.models import *\n",
        "from IPython.display import clear_output\n",
        "from imutils import build_montages\n",
        "from sklearn.utils import shuffle \n",
        "from tqdm import tqdm\n",
        "import matplotlib.pyplot as plt\n",
        "import tensorflow as tf\n",
        "import numpy as np\n",
        "import cv2"
      ],
      "execution_count": 0,
      "outputs": []
    },
    {
      "cell_type": "code",
      "metadata": {
        "id": "U4u06X1v6Uft",
        "colab_type": "code",
        "colab": {}
      },
      "source": [
        "# Set TensorFlow's and NumPy's random seed and make the plots inline\n",
        "tf.random.set_seed(42)\n",
        "np.random.seed(42)\n",
        "%matplotlib inline"
      ],
      "execution_count": 0,
      "outputs": []
    },
    {
      "cell_type": "code",
      "metadata": {
        "id": "pj3Zsv8T6Uf0",
        "colab_type": "code",
        "outputId": "91057daf-6ffe-44ce-c46b-7b74359c53a3",
        "colab": {
          "base_uri": "https://localhost:8080/",
          "height": 34
        }
      },
      "source": [
        "# Gather dataset\n",
        "((X_train, _), (X_test, _)) = tf.keras.datasets.fashion_mnist.load_data()\n",
        "X_train.shape, X_test.shape"
      ],
      "execution_count": 5,
      "outputs": [
        {
          "output_type": "execute_result",
          "data": {
            "text/plain": [
              "((60000, 28, 28), (10000, 28, 28))"
            ]
          },
          "metadata": {
            "tags": []
          },
          "execution_count": 5
        }
      ]
    },
    {
      "cell_type": "code",
      "metadata": {
        "id": "QsyXZEFy6Uf7",
        "colab_type": "code",
        "colab": {}
      },
      "source": [
        "# Add a channel dimension\n",
        "X_train = X_train.reshape(-1, 28, 28, 1)\n",
        "X_test = X_test.reshape(-1, 28, 28, 1)"
      ],
      "execution_count": 0,
      "outputs": []
    },
    {
      "cell_type": "code",
      "metadata": {
        "id": "7dBSL0MK6Uf9",
        "colab_type": "code",
        "colab": {}
      },
      "source": [
        "# Shuffle the datapoints to avoid order bias\n",
        "X_train, X_test = shuffle(X_train), shuffle(X_test)\n",
        "\n",
        "# Concatenate train and test images into one array and normalize\n",
        "# the pixel values\n",
        "trainImages = np.concatenate([X_train, X_test])\n",
        "trainImages = (trainImages.astype(\"float32\") - 127.5) / 127.5"
      ],
      "execution_count": 0,
      "outputs": []
    },
    {
      "cell_type": "code",
      "metadata": {
        "id": "DmkFzqIDfTq7",
        "colab_type": "code",
        "colab": {
          "base_uri": "https://localhost:8080/",
          "height": 265
        },
        "outputId": "7244c376-5fdc-4f16-f501-a129df19028c"
      },
      "source": [
        "plt.imshow(trainImages[0].reshape(28, 28), cmap=plt.cm.binary)\n",
        "plt.show()"
      ],
      "execution_count": 8,
      "outputs": [
        {
          "output_type": "display_data",
          "data": {
            "image/png": "[encoded data removed]",
            "text/plain": [
              "<Figure size 432x288 with 1 Axes>"
            ]
          },
          "metadata": {
            "tags": []
          }
        }
      ]
    },
    {
      "cell_type": "code",
      "metadata": {
        "id": "yXXaoPML6UgB",
        "colab_type": "code",
        "colab": {}
      },
      "source": [
        "# Model configuration\n",
        "LATENT_DIM = 100\n",
        "HEIGHT = 28\n",
        "WIDTH = 28\n",
        "NB_CHANNELS = 1"
      ],
      "execution_count": 0,
      "outputs": []
    },
    {
      "cell_type": "code",
      "metadata": {
        "id": "M8bmHU2K6UgF",
        "colab_type": "code",
        "colab": {}
      },
      "source": [
        "# Generator\n",
        "def generator_network():\n",
        "    generator = Sequential()\n",
        "    inputShape = (7, 7, 64)\n",
        "    chanDim = -1\n",
        "\n",
        "    generator.add(Dense(input_dim=LATENT_DIM, units=512, use_bias=False))\n",
        "    generator.add(LeakyReLU())\n",
        "    generator.add(BatchNormalization())\n",
        "\n",
        "    generator.add(Dense(7 * 7 * 64, use_bias=False))\n",
        "    generator.add(LeakyReLU())\n",
        "    generator.add(BatchNormalization())\n",
        "\n",
        "    generator.add(Reshape(inputShape))\n",
        "    generator.add(Conv2DTranspose(32, (5, 5), strides=(2, 2),\n",
        "        padding=\"same\", use_bias=False))\n",
        "    generator.add((LeakyReLU()))\n",
        "    generator.add(BatchNormalization(axis=chanDim))\n",
        "\n",
        "    generator.add(Conv2DTranspose(NB_CHANNELS, (5, 5), strides=(2, 2),\n",
        "        padding=\"same\", activation=\"tanh\"))\n",
        "\n",
        "    return generator"
      ],
      "execution_count": 0,
      "outputs": []
    },
    {
      "cell_type": "code",
      "metadata": {
        "id": "5KRMOU5W6UgI",
        "colab_type": "code",
        "outputId": "283e116a-5e46-48da-b6b2-dafd585ae0dc",
        "colab": {
          "base_uri": "https://localhost:8080/",
          "height": 527
        }
      },
      "source": [
        "generator = generator_network()\n",
        "generator.summary()"
      ],
      "execution_count": 11,
      "outputs": [
        {
          "output_type": "stream",
          "text": [
            "Model: \"sequential\"\n",
            "_________________________________________________________________\n",
            "Layer (type)                 Output Shape              Param #   \n",
            "=================================================================\n",
            "dense (Dense)                (None, 512)               51200     \n",
            "_________________________________________________________________\n",
            "leaky_re_lu (LeakyReLU)      (None, 512)               0         \n",
            "_________________________________________________________________\n",
            "batch_normalization (BatchNo (None, 512)               2048      \n",
            "_________________________________________________________________\n",
            "dense_1 (Dense)              (None, 3136)              1605632   \n",
            "_________________________________________________________________\n",
            "leaky_re_lu_1 (LeakyReLU)    (None, 3136)              0         \n",
            "_________________________________________________________________\n",
            "batch_normalization_1 (Batch (None, 3136)              12544     \n",
            "_________________________________________________________________\n",
            "reshape (Reshape)            (None, 7, 7, 64)          0         \n",
            "_________________________________________________________________\n",
            "conv2d_transpose (Conv2DTran (None, 14, 14, 32)        51200     \n",
            "_________________________________________________________________\n",
            "leaky_re_lu_2 (LeakyReLU)    (None, 14, 14, 32)        0         \n",
            "_________________________________________________________________\n",
            "batch_normalization_2 (Batch (None, 14, 14, 32)        128       \n",
            "_________________________________________________________________\n",
            "conv2d_transpose_1 (Conv2DTr (None, 28, 28, 1)         801       \n",
            "=================================================================\n",
            "Total params: 1,723,553\n",
            "Trainable params: 1,716,193\n",
            "Non-trainable params: 7,360\n",
            "_________________________________________________________________\n"
          ],
          "name": "stdout"
        }
      ]
    },
    {
      "cell_type": "code",
      "metadata": {
        "id": "eFREf2jM6UgO",
        "colab_type": "code",
        "colab": {}
      },
      "source": [
        "# Discriminator\n",
        "def disc_network():\n",
        "    disc = Sequential()\n",
        "    inputShape = (HEIGHT, WIDTH, NB_CHANNELS)\n",
        "\n",
        "    disc.add(Conv2D(32, (5, 5), padding=\"same\", strides=(2, 2),\n",
        "        input_shape=inputShape))\n",
        "    disc.add(LeakyReLU(alpha=0.2))\n",
        "\n",
        "    disc.add(Conv2D(64, (5, 5), padding=\"same\", strides=(2, 2)))\n",
        "    disc.add(LeakyReLU(alpha=0.2))\n",
        "\n",
        "    disc.add(Flatten())\n",
        "    disc.add(Dense(512))\n",
        "    disc.add(LeakyReLU(alpha=0.2))\n",
        "    disc.add(Dropout(0.3))\n",
        "    disc.add(Dense(1))\n",
        "    \n",
        "    return disc"
      ],
      "execution_count": 0,
      "outputs": []
    },
    {
      "cell_type": "code",
      "metadata": {
        "id": "YDIGOWKq6UgQ",
        "colab_type": "code",
        "outputId": "42ad2b3a-353f-42cf-da3f-0592f21743d2",
        "colab": {
          "base_uri": "https://localhost:8080/",
          "height": 459
        }
      },
      "source": [
        "disc = disc_network()\n",
        "disc.summary()"
      ],
      "execution_count": 13,
      "outputs": [
        {
          "output_type": "stream",
          "text": [
            "Model: \"sequential_1\"\n",
            "_________________________________________________________________\n",
            "Layer (type)                 Output Shape              Param #   \n",
            "=================================================================\n",
            "conv2d (Conv2D)              (None, 14, 14, 32)        832       \n",
            "_________________________________________________________________\n",
            "leaky_re_lu_3 (LeakyReLU)    (None, 14, 14, 32)        0         \n",
            "_________________________________________________________________\n",
            "conv2d_1 (Conv2D)            (None, 7, 7, 64)          51264     \n",
            "_________________________________________________________________\n",
            "leaky_re_lu_4 (LeakyReLU)    (None, 7, 7, 64)          0         \n",
            "_________________________________________________________________\n",
            "flatten (Flatten)            (None, 3136)              0         \n",
            "_________________________________________________________________\n",
            "dense_2 (Dense)              (None, 512)               1606144   \n",
            "_________________________________________________________________\n",
            "leaky_re_lu_5 (LeakyReLU)    (None, 512)               0         \n",
            "_________________________________________________________________\n",
            "dropout (Dropout)            (None, 512)               0         \n",
            "_________________________________________________________________\n",
            "dense_3 (Dense)              (None, 1)                 513       \n",
            "=================================================================\n",
            "Total params: 1,658,753\n",
            "Trainable params: 1,658,753\n",
            "Non-trainable params: 0\n",
            "_________________________________________________________________\n"
          ],
          "name": "stdout"
        }
      ]
    },
    {
      "cell_type": "code",
      "metadata": {
        "id": "Y9xhxZG_YCzn",
        "colab_type": "code",
        "colab": {}
      },
      "source": [
        "# The Wasserstein loss\n",
        "from tensorflow.keras import backend as K\n",
        "\n",
        "def wasserstein(y_true, y_pred):\n",
        "    return - K.mean(y_true * y_pred)"
      ],
      "execution_count": 0,
      "outputs": []
    },
    {
      "cell_type": "code",
      "metadata": {
        "id": "qA-2dE8H6UgV",
        "colab_type": "code",
        "colab": {}
      },
      "source": [
        "# Compile the critic (in the W-GAN paper the authors referred the discriminator as critic)\n",
        "disc_opt = Adam(lr=0.0002, beta_1=0.5)\n",
        "gan_opt = Adam(lr=0.0002, beta_1=0.5)"
      ],
      "execution_count": 0,
      "outputs": []
    },
    {
      "cell_type": "code",
      "metadata": {
        "id": "mXmnc85O62b2",
        "colab_type": "code",
        "colab": {}
      },
      "source": [
        "# Reference: https://colab.research.google.com/drive/14l-3syle0APnRi-HQoTx-oAFZOGvbbSk\n",
        "\n",
        "@tf.function\n",
        "def train_gan(num_samples):\n",
        "    # 1. Generate random noise\n",
        "    noise = np.random.normal(size=(num_samples, LATENT_DIM))\n",
        "    noise = tf.convert_to_tensor(noise, dtype=tf.float32)\n",
        "\n",
        "    # 2. Generate fake labels to fool the critic\n",
        "    fake_labels = np.array([1] * BATCH_SIZE)\n",
        "    fake_labels = tf.convert_to_tensor(fake_labels, dtype=tf.float32)\n",
        "\n",
        "    # 3. Generate image and get the loss as well as gradients via the critic\n",
        "    with tf.GradientTape() as tape:\n",
        "        generated_images = generator(noise, training=True)\n",
        "        gen_img_logits = disc(generated_images, training=True)\n",
        "        gan_loss = wasserstein(fake_labels, gen_img_logits)\n",
        "    \n",
        "    gen_gradient = tape.gradient(gan_loss, generator.trainable_variables)\n",
        "    gan_opt.apply_gradients(zip(gen_gradient, generator.trainable_variables))\n",
        "    return gan_loss\n",
        "\n",
        "#-------------------------------------------------------------------------------\n",
        "\n",
        "def gradient_penalty(real_images, fake_images):\n",
        "    # Each image would get a random number in the batch \n",
        "    # This number would be of shape: (num_samples, 1, 1, 1)\n",
        "    # Remember each image has h x w x nb_channels\n",
        "    alpha = np.random.uniform(size=(len(real_images), 1, 1, 1))\n",
        "    alpha = tf.convert_to_tensor(alpha, dtype=tf.float32)\n",
        "    \n",
        "    # Perform interpolation\n",
        "    interpolated = (alpha * real_images) + ((1 - alpha) * fake_images)\n",
        "    \n",
        "    with tf.GradientTape() as tape:\n",
        "        tape.watch(interpolated)\n",
        "        pred = disc(interpolated, training=True)\n",
        "\n",
        "    # Compute the Gradient Penalty term\n",
        "    grads = tape.gradient(pred, [interpolated])[0]\n",
        "    norm = tf.sqrt(tf.reduce_sum(tf.square(grads), axis=[1, 2, 3]))\n",
        "    gp = tf.reduce_mean((norm - 1.)**2)\n",
        "    \n",
        "    return gp\n",
        "\n",
        "#-------------------------------------------------------------------------------\n",
        "\n",
        "@tf.function\n",
        "def train_critic(real_images, gp_weight=10.0):\n",
        "    # 1. Map random noise to images via the generator\n",
        "    noise = np.random.normal(size=(len(real_images), LATENT_DIM))\n",
        "    noise = tf.convert_to_tensor(noise, dtype=tf.float32)\n",
        "    generated_images = generator(noise, training=True)\n",
        "    \n",
        "    # 2. Combine the real and generated images\n",
        "    real_images = tf.convert_to_tensor(real_images, dtype=tf.float32)\n",
        "    combined_images = tf.concat([generated_images, real_images], axis=0)\n",
        "\n",
        "    # 3. Prepare the labels\n",
        "    # -1 -> Fake images, 1 -> Real images\n",
        "    labels = np.array(([-1] * BATCH_SIZE) + ([1] * BATCH_SIZE)).astype(\"float\")\n",
        "    labels = tf.convert_to_tensor(labels, dtype=tf.float32)\n",
        "    \n",
        "    # 4. Compute the critic loss with GP and update gradients\n",
        "    with tf.GradientTape() as tape:\n",
        "        critic_logits = disc(combined_images, training=True)\n",
        "        disc_loss = wasserstein(labels, critic_logits)\n",
        "        \n",
        "        gp = gradient_penalty(real_images, generated_images)\n",
        "        total_critic_loss = disc_loss + gp*gp_weight\n",
        "\n",
        "    disc_gradient = tape.gradient(total_critic_loss, disc.trainable_variables)\n",
        "    disc_opt.apply_gradients(zip(disc_gradient, disc.trainable_variables))\n",
        "    \n",
        "    return total_critic_loss\n",
        "\n",
        "#-------------------------------------------------------------------------------"
      ],
      "execution_count": 0,
      "outputs": []
    },
    {
      "cell_type": "code",
      "metadata": {
        "id": "2WQMsO_56Ugd",
        "colab_type": "code",
        "colab": {}
      },
      "source": [
        "# Constants\n",
        "EPOCHS = 10000 \n",
        "BATCH_SIZE = 32"
      ],
      "execution_count": 0,
      "outputs": []
    },
    {
      "cell_type": "code",
      "metadata": {
        "id": "8IvbXTSoFznH",
        "colab_type": "code",
        "colab": {}
      },
      "source": [
        "# Metrics to keep track of the mean loss for eah epoch\n",
        "gen_metric = tf.keras.metrics.Mean()\n",
        "disc_metric = tf.keras.metrics.Mean()"
      ],
      "execution_count": 0,
      "outputs": []
    },
    {
      "cell_type": "code",
      "metadata": {
        "id": "9PQjOSyGNuvF",
        "colab_type": "code",
        "colab": {}
      },
      "source": [
        "# Sample random noise from a normal distribution, we will use this\n",
        "# to visualize the intermediate results\n",
        "benchmark_noise = np.random.normal(size=(256, LATENT_DIM))"
      ],
      "execution_count": 0,
      "outputs": []
    },
    {
      "cell_type": "code",
      "metadata": {
        "id": "nyYQFMGDCM_c",
        "colab_type": "code",
        "colab": {
          "base_uri": "https://localhost:8080/",
          "height": 561
        },
        "outputId": "db89aef9-0c10-4cbd-90af-d336fec4facf"
      },
      "source": [
        "######## Training ########\n",
        "##########################\n",
        "\n",
        "start = 0\n",
        "\n",
        "for epoch in tqdm(range(EPOCHS)):\n",
        "    # Calculate where to stop the current epoch, segregate the current batch\n",
        "    # of real images and combine them with the fake ones\n",
        "    stop = start + BATCH_SIZE\n",
        "    real_images = trainImages[start:stop]\n",
        "\n",
        "    # Frequent critic updates in between generator updates\n",
        "    for _ in range(5):\n",
        "        critic_loss = train_critic(real_images)\n",
        "        disc_metric(critic_loss)\n",
        "    \n",
        "    # Train the GAN\n",
        "    gan_loss = train_gan(BATCH_SIZE)\n",
        "    gen_metric(gan_loss)\n",
        "\n",
        "    # Set the next batch\n",
        "    start += BATCH_SIZE\n",
        "    if start > len(trainImages) - BATCH_SIZE:\n",
        "        start = 0\n",
        "    \n",
        "    # Logging\n",
        "    if epoch % 200==0:            \n",
        "        print(f\"epoch: {epoch} gan_loss: {gen_metric.result():.3f}, d_loss: {disc_metric.result():.3f}\")\n",
        "        predicted_images = generator.predict(benchmark_noise)\n",
        "        predicted_images = ((predicted_images * 127.5) + 127.5).astype(\"int\")\n",
        "        predicted_images = np.repeat(predicted_images, 3, axis=-1)\n",
        "        vis = build_montages(predicted_images, (28, 28), (16, 16))[0]\n",
        "        cv2.imwrite(\"vis\" + str(epoch) + \".png\", vis)\n",
        "\n",
        "    # Reset the states of the metrics\n",
        "    gen_metric.reset_states()\n",
        "    disc_metric.reset_states()"
      ],
      "execution_count": 0,
      "outputs": [
        {
          "output_type": "stream",
          "text": [
            "  0%|          | 1/10000 [00:03<10:19:13,  3.72s/it]"
          ],
          "name": "stderr"
        },
        {
          "output_type": "stream",
          "text": [
            "epoch: 0 gan_loss: 0.018, d_loss: 6.554\n"
          ],
          "name": "stdout"
        },
        {
          "output_type": "stream",
          "text": [
            "  2%|▏         | 203/10000 [00:16<10:48, 15.10it/s]"
          ],
          "name": "stderr"
        },
        {
          "output_type": "stream",
          "text": [
            "epoch: 200 gan_loss: -14.236, d_loss: 0.015\n"
          ],
          "name": "stdout"
        },
        {
          "output_type": "stream",
          "text": [
            "  4%|▍         | 403/10000 [00:28<10:32, 15.18it/s]"
          ],
          "name": "stderr"
        },
        {
          "output_type": "stream",
          "text": [
            "epoch: 400 gan_loss: -16.523, d_loss: 0.016\n"
          ],
          "name": "stdout"
        },
        {
          "output_type": "stream",
          "text": [
            "  6%|▌         | 603/10000 [00:40<10:21, 15.13it/s]"
          ],
          "name": "stderr"
        },
        {
          "output_type": "stream",
          "text": [
            "epoch: 600 gan_loss: -16.798, d_loss: 0.017\n"
          ],
          "name": "stdout"
        },
        {
          "output_type": "stream",
          "text": [
            "  8%|▊         | 803/10000 [00:52<10:10, 15.06it/s]"
          ],
          "name": "stderr"
        },
        {
          "output_type": "stream",
          "text": [
            "epoch: 800 gan_loss: -17.277, d_loss: 0.014\n"
          ],
          "name": "stdout"
        },
        {
          "output_type": "stream",
          "text": [
            " 10%|█         | 1003/10000 [01:04<09:57, 15.06it/s]"
          ],
          "name": "stderr"
        },
        {
          "output_type": "stream",
          "text": [
            "epoch: 1000 gan_loss: -16.660, d_loss: 0.013\n"
          ],
          "name": "stdout"
        },
        {
          "output_type": "stream",
          "text": [
            " 12%|█▏        | 1203/10000 [01:16<09:39, 15.17it/s]"
          ],
          "name": "stderr"
        },
        {
          "output_type": "stream",
          "text": [
            "epoch: 1200 gan_loss: -17.042, d_loss: 0.011\n"
          ],
          "name": "stdout"
        },
        {
          "output_type": "stream",
          "text": [
            " 14%|█▍        | 1403/10000 [01:28<09:30, 15.07it/s]"
          ],
          "name": "stderr"
        },
        {
          "output_type": "stream",
          "text": [
            "epoch: 1400 gan_loss: -17.520, d_loss: 0.010\n"
          ],
          "name": "stdout"
        },
        {
          "output_type": "stream",
          "text": [
            " 16%|█▌        | 1603/10000 [01:40<09:09, 15.29it/s]"
          ],
          "name": "stderr"
        },
        {
          "output_type": "stream",
          "text": [
            "epoch: 1600 gan_loss: -17.763, d_loss: 0.019\n"
          ],
          "name": "stdout"
        },
        {
          "output_type": "stream",
          "text": [
            " 18%|█▊        | 1803/10000 [01:52<09:04, 15.06it/s]"
          ],
          "name": "stderr"
        },
        {
          "output_type": "stream",
          "text": [
            "epoch: 1800 gan_loss: -18.119, d_loss: 0.010\n"
          ],
          "name": "stdout"
        },
        {
          "output_type": "stream",
          "text": [
            " 20%|██        | 2003/10000 [02:04<08:50, 15.07it/s]"
          ],
          "name": "stderr"
        },
        {
          "output_type": "stream",
          "text": [
            "epoch: 2000 gan_loss: -18.445, d_loss: 0.012\n"
          ],
          "name": "stdout"
        },
        {
          "output_type": "stream",
          "text": [
            " 22%|██▏       | 2203/10000 [02:16<08:29, 15.31it/s]"
          ],
          "name": "stderr"
        },
        {
          "output_type": "stream",
          "text": [
            "epoch: 2200 gan_loss: -18.137, d_loss: 0.010\n"
          ],
          "name": "stdout"
        },
        {
          "output_type": "stream",
          "text": [
            " 24%|██▍       | 2403/10000 [02:28<08:23, 15.09it/s]"
          ],
          "name": "stderr"
        },
        {
          "output_type": "stream",
          "text": [
            "epoch: 2400 gan_loss: -18.497, d_loss: 0.010\n"
          ],
          "name": "stdout"
        },
        {
          "output_type": "stream",
          "text": [
            " 26%|██▌       | 2603/10000 [02:40<08:06, 15.22it/s]"
          ],
          "name": "stderr"
        },
        {
          "output_type": "stream",
          "text": [
            "epoch: 2600 gan_loss: -18.134, d_loss: 0.012\n"
          ],
          "name": "stdout"
        },
        {
          "output_type": "stream",
          "text": [
            " 28%|██▊       | 2803/10000 [02:52<07:58, 15.03it/s]"
          ],
          "name": "stderr"
        },
        {
          "output_type": "stream",
          "text": [
            "epoch: 2800 gan_loss: -18.256, d_loss: 0.010\n"
          ],
          "name": "stdout"
        },
        {
          "output_type": "stream",
          "text": [
            " 30%|███       | 3003/10000 [03:04<07:39, 15.23it/s]"
          ],
          "name": "stderr"
        },
        {
          "output_type": "stream",
          "text": [
            "epoch: 3000 gan_loss: -17.783, d_loss: 0.011\n"
          ],
          "name": "stdout"
        },
        {
          "output_type": "stream",
          "text": [
            " 32%|███▏      | 3203/10000 [03:16<07:33, 14.99it/s]"
          ],
          "name": "stderr"
        },
        {
          "output_type": "stream",
          "text": [
            "epoch: 3200 gan_loss: -18.256, d_loss: 0.011\n"
          ],
          "name": "stdout"
        },
        {
          "output_type": "stream",
          "text": [
            " 34%|███▍      | 3403/10000 [03:28<07:14, 15.20it/s]"
          ],
          "name": "stderr"
        },
        {
          "output_type": "stream",
          "text": [
            "epoch: 3400 gan_loss: -18.686, d_loss: 0.011\n"
          ],
          "name": "stdout"
        },
        {
          "output_type": "stream",
          "text": [
            " 36%|███▌      | 3603/10000 [03:40<07:14, 14.72it/s]"
          ],
          "name": "stderr"
        },
        {
          "output_type": "stream",
          "text": [
            "epoch: 3600 gan_loss: -18.174, d_loss: 0.009\n"
          ],
          "name": "stdout"
        },
        {
          "output_type": "stream",
          "text": [
            " 38%|███▊      | 3803/10000 [03:52<06:43, 15.34it/s]"
          ],
          "name": "stderr"
        },
        {
          "output_type": "stream",
          "text": [
            "epoch: 3800 gan_loss: -17.517, d_loss: 0.009\n"
          ],
          "name": "stdout"
        },
        {
          "output_type": "stream",
          "text": [
            " 40%|████      | 4003/10000 [04:04<06:30, 15.37it/s]"
          ],
          "name": "stderr"
        },
        {
          "output_type": "stream",
          "text": [
            "epoch: 4000 gan_loss: -18.080, d_loss: 0.008\n"
          ],
          "name": "stdout"
        },
        {
          "output_type": "stream",
          "text": [
            " 42%|████▏     | 4203/10000 [04:16<06:19, 15.26it/s]"
          ],
          "name": "stderr"
        },
        {
          "output_type": "stream",
          "text": [
            "epoch: 4200 gan_loss: -17.794, d_loss: 0.011\n"
          ],
          "name": "stdout"
        },
        {
          "output_type": "stream",
          "text": [
            " 44%|████▍     | 4403/10000 [04:28<06:07, 15.24it/s]"
          ],
          "name": "stderr"
        },
        {
          "output_type": "stream",
          "text": [
            "epoch: 4400 gan_loss: -17.332, d_loss: 0.012\n"
          ],
          "name": "stdout"
        },
        {
          "output_type": "stream",
          "text": [
            " 46%|████▌     | 4603/10000 [04:40<05:56, 15.14it/s]"
          ],
          "name": "stderr"
        },
        {
          "output_type": "stream",
          "text": [
            "epoch: 4600 gan_loss: -17.733, d_loss: 0.008\n"
          ],
          "name": "stdout"
        },
        {
          "output_type": "stream",
          "text": [
            " 48%|████▊     | 4803/10000 [04:52<05:37, 15.41it/s]"
          ],
          "name": "stderr"
        },
        {
          "output_type": "stream",
          "text": [
            "epoch: 4800 gan_loss: -17.643, d_loss: 0.008\n"
          ],
          "name": "stdout"
        },
        {
          "output_type": "stream",
          "text": [
            " 50%|█████     | 5003/10000 [05:04<05:25, 15.33it/s]"
          ],
          "name": "stderr"
        },
        {
          "output_type": "stream",
          "text": [
            "epoch: 5000 gan_loss: -17.687, d_loss: 0.010\n"
          ],
          "name": "stdout"
        },
        {
          "output_type": "stream",
          "text": [
            " 52%|█████▏    | 5203/10000 [05:16<05:19, 15.03it/s]"
          ],
          "name": "stderr"
        },
        {
          "output_type": "stream",
          "text": [
            "epoch: 5200 gan_loss: -17.670, d_loss: 0.011\n"
          ],
          "name": "stdout"
        },
        {
          "output_type": "stream",
          "text": [
            " 54%|█████▍    | 5403/10000 [05:28<05:05, 15.07it/s]"
          ],
          "name": "stderr"
        },
        {
          "output_type": "stream",
          "text": [
            "epoch: 5400 gan_loss: -17.566, d_loss: 0.009\n"
          ],
          "name": "stdout"
        },
        {
          "output_type": "stream",
          "text": [
            " 56%|█████▌    | 5603/10000 [05:40<04:48, 15.25it/s]"
          ],
          "name": "stderr"
        },
        {
          "output_type": "stream",
          "text": [
            "epoch: 5600 gan_loss: -17.844, d_loss: 0.009\n"
          ],
          "name": "stdout"
        },
        {
          "output_type": "stream",
          "text": [
            " 58%|█████▊    | 5803/10000 [05:52<04:33, 15.32it/s]"
          ],
          "name": "stderr"
        },
        {
          "output_type": "stream",
          "text": [
            "epoch: 5800 gan_loss: -17.195, d_loss: 0.010\n"
          ],
          "name": "stdout"
        },
        {
          "output_type": "stream",
          "text": [
            " 60%|██████    | 6003/10000 [06:04<04:20, 15.37it/s]"
          ],
          "name": "stderr"
        },
        {
          "output_type": "stream",
          "text": [
            "epoch: 6000 gan_loss: -17.582, d_loss: 0.007\n"
          ],
          "name": "stdout"
        },
        {
          "output_type": "stream",
          "text": [
            " 61%|██████    | 6051/10000 [06:07<03:54, 16.82it/s]"
          ],
          "name": "stderr"
        }
      ]
    },
    {
      "cell_type": "code",
      "metadata": {
        "id": "sadviSGyQPCI",
        "colab_type": "code",
        "colab": {}
      },
      "source": [
        "def show_montage(image_path)\n",
        "    montage_1 =  plt.imread(image_path)\n",
        "    plt.imshow(montage_1, cmap=plt.cm.binary)\n",
        "    plt.show()"
      ],
      "execution_count": 0,
      "outputs": []
    },
    {
      "cell_type": "code",
      "metadata": {
        "id": "m3cwmuy3QYxG",
        "colab_type": "code",
        "colab": {}
      },
      "source": [
        "montage_2 =  plt.imread(\"vis2000.png\")\n",
        "plt.imshow(montage_2)\n",
        "plt.show()"
      ],
      "execution_count": 0,
      "outputs": []
    },
    {
      "cell_type": "code",
      "metadata": {
        "id": "z5ZZDtVQdC0F",
        "colab_type": "code",
        "colab": {}
      },
      "source": [
        "montage_3 =  plt.imread(\"vis5000.png\")\n",
        "plt.imshow(montage_3)\n",
        "plt.show()"
      ],
      "execution_count": 0,
      "outputs": []
    },
    {
      "cell_type": "code",
      "metadata": {
        "id": "rsep9xRQdG0U",
        "colab_type": "code",
        "colab": {}
      },
      "source": [
        "montage_4 =  plt.imread(\"vis7000.png\")\n",
        "plt.imshow(montage_4)\n",
        "plt.show()"
      ],
      "execution_count": 0,
      "outputs": []
    },
    {
      "cell_type": "code",
      "metadata": {
        "id": "IxTsYxaBdJ1q",
        "colab_type": "code",
        "colab": {}
      },
      "source": [
        "montage_5 =  plt.imread(\"vis9500.png\")\n",
        "plt.imshow(montage_5)\n",
        "plt.show()"
      ],
      "execution_count": 0,
      "outputs": []
    }
  ]
}