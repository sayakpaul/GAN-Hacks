{
  "nbformat": 4,
  "nbformat_minor": 0,
  "metadata": {
    "kernelspec": {
      "name": "python3",
      "display_name": "Python 3"
    },
    "language_info": {
      "codemirror_mode": {
        "name": "ipython",
        "version": 3
      },
      "file_extension": ".py",
      "mimetype": "text/x-python",
      "name": "python",
      "nbconvert_exporter": "python",
      "pygments_lexer": "ipython3",
      "version": "3.7.1"
    },
    "colab": {
      "name": "WGAN_Experimentation.ipynb",
      "provenance": [],
      "collapsed_sections": [],
      "include_colab_link": true
    },
    "accelerator": "GPU"
  },
  "cells": [
    {
      "cell_type": "markdown",
      "metadata": {
        "id": "view-in-github",
        "colab_type": "text"
      },
      "source": [
        "<a href=\"https://colab.research.google.com/github/sayakpaul/GAN-Hacks/blob/master/WGAN_Experimentation.ipynb\" target=\"_parent\"><img src=\"https://colab.research.google.com/assets/colab-badge.svg\" alt=\"Open In Colab\"/></a>"
      ]
    },
    {
      "cell_type": "code",
      "metadata": {
        "id": "YJr4Ao0U6XiX",
        "colab_type": "code",
        "outputId": "12168ef5-4627-427d-834f-dd78614c2308",
        "colab": {
          "base_uri": "https://localhost:8080/",
          "height": 34
        }
      },
      "source": [
        "# Select TensorFlow 2 backend\n",
        "%tensorflow_version 2.x"
      ],
      "execution_count": 1,
      "outputs": [
        {
          "output_type": "stream",
          "text": [
            "TensorFlow 2.x selected.\n"
          ],
          "name": "stdout"
        }
      ]
    },
    {
      "cell_type": "code",
      "metadata": {
        "id": "7rciOpdKhJaP",
        "colab_type": "code",
        "colab": {
          "base_uri": "https://localhost:8080/",
          "height": 306
        },
        "outputId": "dfee49b7-7fc2-40b5-ddf0-b251d8263358"
      },
      "source": [
        "# I'm training on a GPU!\n",
        "!nvidia-smi"
      ],
      "execution_count": 2,
      "outputs": [
        {
          "output_type": "stream",
          "text": [
            "Mon Mar 16 09:23:09 2020       \n",
            "+-----------------------------------------------------------------------------+\n",
            "| NVIDIA-SMI 440.59       Driver Version: 418.67       CUDA Version: 10.1     |\n",
            "|-------------------------------+----------------------+----------------------+\n",
            "| GPU  Name        Persistence-M| Bus-Id        Disp.A | Volatile Uncorr. ECC |\n",
            "| Fan  Temp  Perf  Pwr:Usage/Cap|         Memory-Usage | GPU-Util  Compute M. |\n",
            "|===============================+======================+======================|\n",
            "|   0  Tesla P100-PCIE...  Off  | 00000000:00:04.0 Off |                    0 |\n",
            "| N/A   34C    P0    26W / 250W |      0MiB / 16280MiB |      0%      Default |\n",
            "+-------------------------------+----------------------+----------------------+\n",
            "                                                                               \n",
            "+-----------------------------------------------------------------------------+\n",
            "| Processes:                                                       GPU Memory |\n",
            "|  GPU       PID   Type   Process name                             Usage      |\n",
            "|=============================================================================|\n",
            "|  No running processes found                                                 |\n",
            "+-----------------------------------------------------------------------------+\n"
          ],
          "name": "stdout"
        }
      ]
    },
    {
      "cell_type": "code",
      "metadata": {
        "id": "E9aq9Ps56Ufj",
        "colab_type": "code",
        "colab": {}
      },
      "source": [
        "# Imports\n",
        "from tensorflow.keras.preprocessing import image\n",
        "from tensorflow.keras.optimizers import *\n",
        "from tensorflow.keras.layers import *\n",
        "from tensorflow.keras.models import *\n",
        "from imutils import build_montages\n",
        "from sklearn.utils import shuffle \n",
        "from tqdm import tqdm\n",
        "import matplotlib.pyplot as plt\n",
        "import tensorflow as tf\n",
        "import numpy as np\n",
        "import cv2"
      ],
      "execution_count": 0,
      "outputs": []
    },
    {
      "cell_type": "code",
      "metadata": {
        "id": "U4u06X1v6Uft",
        "colab_type": "code",
        "colab": {}
      },
      "source": [
        "# Set TensorFlow's random seed and make the plots inline\n",
        "tf.random.set_seed(42)\n",
        "%matplotlib inline"
      ],
      "execution_count": 0,
      "outputs": []
    },
    {
      "cell_type": "code",
      "metadata": {
        "id": "pj3Zsv8T6Uf0",
        "colab_type": "code",
        "outputId": "532a0240-344a-474b-fd83-c003ea8d08dd",
        "colab": {
          "base_uri": "https://localhost:8080/",
          "height": 34
        }
      },
      "source": [
        "# Gather dataset\n",
        "((X_train, _), (X_test, _)) = tf.keras.datasets.fashion_mnist.load_data()\n",
        "X_train.shape, X_test.shape"
      ],
      "execution_count": 5,
      "outputs": [
        {
          "output_type": "execute_result",
          "data": {
            "text/plain": [
              "((60000, 28, 28), (10000, 28, 28))"
            ]
          },
          "metadata": {
            "tags": []
          },
          "execution_count": 5
        }
      ]
    },
    {
      "cell_type": "code",
      "metadata": {
        "id": "QsyXZEFy6Uf7",
        "colab_type": "code",
        "colab": {}
      },
      "source": [
        "# Add a channel dimension\n",
        "X_train = X_train.reshape(-1, 28, 28, 1)\n",
        "X_test = X_test.reshape(-1, 28, 28, 1)"
      ],
      "execution_count": 0,
      "outputs": []
    },
    {
      "cell_type": "code",
      "metadata": {
        "id": "7dBSL0MK6Uf9",
        "colab_type": "code",
        "colab": {}
      },
      "source": [
        "# Concatenate train and test images into one array and normalize\n",
        "# the pixel values\n",
        "trainImages = np.concatenate([X_train, X_test])\n",
        "trainImages = (trainImages.astype(\"float\") - 127.5) / 127.5"
      ],
      "execution_count": 0,
      "outputs": []
    },
    {
      "cell_type": "code",
      "metadata": {
        "id": "yXXaoPML6UgB",
        "colab_type": "code",
        "colab": {}
      },
      "source": [
        "# Model configuration\n",
        "latent_dim = 100\n",
        "height = 28\n",
        "width = 28\n",
        "nb_channels = 1"
      ],
      "execution_count": 0,
      "outputs": []
    },
    {
      "cell_type": "code",
      "metadata": {
        "id": "M8bmHU2K6UgF",
        "colab_type": "code",
        "colab": {}
      },
      "source": [
        "# Generator\n",
        "def generator_network():\n",
        "    generator = Sequential()\n",
        "    inputShape = (7, 7, 64)\n",
        "    chanDim = -1\n",
        "\n",
        "    generator.add(Dense(input_dim=latent_dim, units=512))\n",
        "    generator.add(LeakyReLU())\n",
        "    generator.add(BatchNormalization())\n",
        "\n",
        "    generator.add(Dense(7 * 7 * 64))\n",
        "    generator.add(LeakyReLU())\n",
        "    generator.add(BatchNormalization())\n",
        "\n",
        "    generator.add(Reshape(inputShape))\n",
        "    generator.add(Conv2DTranspose(32, (5, 5), strides=(2, 2),\n",
        "        padding=\"same\"))\n",
        "    generator.add((LeakyReLU()))\n",
        "    generator.add(BatchNormalization(axis=chanDim))\n",
        "\n",
        "    generator.add(Conv2DTranspose(nb_channels, (5, 5), strides=(2, 2),\n",
        "        padding=\"same\", activation=\"tanh\"))\n",
        "\n",
        "    return generator"
      ],
      "execution_count": 0,
      "outputs": []
    },
    {
      "cell_type": "code",
      "metadata": {
        "id": "5KRMOU5W6UgI",
        "colab_type": "code",
        "outputId": "5da672a3-a537-40db-b14e-f85649080efc",
        "colab": {
          "base_uri": "https://localhost:8080/",
          "height": 527
        }
      },
      "source": [
        "generator = generator_network()\n",
        "generator.summary()"
      ],
      "execution_count": 10,
      "outputs": [
        {
          "output_type": "stream",
          "text": [
            "Model: \"sequential\"\n",
            "_________________________________________________________________\n",
            "Layer (type)                 Output Shape              Param #   \n",
            "=================================================================\n",
            "dense (Dense)                (None, 512)               51712     \n",
            "_________________________________________________________________\n",
            "leaky_re_lu (LeakyReLU)      (None, 512)               0         \n",
            "_________________________________________________________________\n",
            "batch_normalization (BatchNo (None, 512)               2048      \n",
            "_________________________________________________________________\n",
            "dense_1 (Dense)              (None, 3136)              1608768   \n",
            "_________________________________________________________________\n",
            "leaky_re_lu_1 (LeakyReLU)    (None, 3136)              0         \n",
            "_________________________________________________________________\n",
            "batch_normalization_1 (Batch (None, 3136)              12544     \n",
            "_________________________________________________________________\n",
            "reshape (Reshape)            (None, 7, 7, 64)          0         \n",
            "_________________________________________________________________\n",
            "conv2d_transpose (Conv2DTran (None, 14, 14, 32)        51232     \n",
            "_________________________________________________________________\n",
            "leaky_re_lu_2 (LeakyReLU)    (None, 14, 14, 32)        0         \n",
            "_________________________________________________________________\n",
            "batch_normalization_2 (Batch (None, 14, 14, 32)        128       \n",
            "_________________________________________________________________\n",
            "conv2d_transpose_1 (Conv2DTr (None, 28, 28, 1)         801       \n",
            "=================================================================\n",
            "Total params: 1,727,233\n",
            "Trainable params: 1,719,873\n",
            "Non-trainable params: 7,360\n",
            "_________________________________________________________________\n"
          ],
          "name": "stdout"
        }
      ]
    },
    {
      "cell_type": "code",
      "metadata": {
        "id": "eFREf2jM6UgO",
        "colab_type": "code",
        "colab": {}
      },
      "source": [
        "# Discriminator\n",
        "def disc_network():\n",
        "    disc = Sequential()\n",
        "    inputShape = (height, width, nb_channels)\n",
        "\n",
        "    disc.add(Conv2D(32, (5, 5), padding=\"same\", strides=(2, 2),\n",
        "        input_shape=inputShape))\n",
        "    disc.add(LeakyReLU(alpha=0.2))\n",
        "\n",
        "    disc.add(Conv2D(64, (5, 5), padding=\"same\", strides=(2, 2)))\n",
        "    disc.add(LeakyReLU(alpha=0.2))\n",
        "\n",
        "    disc.add(Flatten())\n",
        "    disc.add(Dense(512))\n",
        "    disc.add(LeakyReLU(alpha=0.2))\n",
        "    disc.add(Dropout(0.3))\n",
        "    disc.add(Dense(1))\n",
        "    \n",
        "    return disc"
      ],
      "execution_count": 0,
      "outputs": []
    },
    {
      "cell_type": "code",
      "metadata": {
        "id": "YDIGOWKq6UgQ",
        "colab_type": "code",
        "outputId": "e5e6b7b9-0e03-41fb-adad-f0eb0a2eeb4f",
        "colab": {
          "base_uri": "https://localhost:8080/",
          "height": 459
        }
      },
      "source": [
        "disc = disc_network()\n",
        "disc.summary()"
      ],
      "execution_count": 12,
      "outputs": [
        {
          "output_type": "stream",
          "text": [
            "Model: \"sequential_1\"\n",
            "_________________________________________________________________\n",
            "Layer (type)                 Output Shape              Param #   \n",
            "=================================================================\n",
            "conv2d (Conv2D)              (None, 14, 14, 32)        832       \n",
            "_________________________________________________________________\n",
            "leaky_re_lu_3 (LeakyReLU)    (None, 14, 14, 32)        0         \n",
            "_________________________________________________________________\n",
            "conv2d_1 (Conv2D)            (None, 7, 7, 64)          51264     \n",
            "_________________________________________________________________\n",
            "leaky_re_lu_4 (LeakyReLU)    (None, 7, 7, 64)          0         \n",
            "_________________________________________________________________\n",
            "flatten (Flatten)            (None, 3136)              0         \n",
            "_________________________________________________________________\n",
            "dense_2 (Dense)              (None, 512)               1606144   \n",
            "_________________________________________________________________\n",
            "leaky_re_lu_5 (LeakyReLU)    (None, 512)               0         \n",
            "_________________________________________________________________\n",
            "dropout (Dropout)            (None, 512)               0         \n",
            "_________________________________________________________________\n",
            "dense_3 (Dense)              (None, 1)                 513       \n",
            "=================================================================\n",
            "Total params: 1,658,753\n",
            "Trainable params: 1,658,753\n",
            "Non-trainable params: 0\n",
            "_________________________________________________________________\n"
          ],
          "name": "stdout"
        }
      ]
    },
    {
      "cell_type": "code",
      "metadata": {
        "id": "Y9xhxZG_YCzn",
        "colab_type": "code",
        "colab": {}
      },
      "source": [
        "# The Wasserstein loss\n",
        "from tensorflow.keras import backend as K\n",
        "\n",
        "def wasserstein(y_true, y_pred):\n",
        "    return - K.mean(tf.cast(y_true, tf.float32) * tf.cast(y_pred, tf.float32))"
      ],
      "execution_count": 0,
      "outputs": []
    },
    {
      "cell_type": "code",
      "metadata": {
        "id": "qA-2dE8H6UgV",
        "colab_type": "code",
        "colab": {}
      },
      "source": [
        "# Compile the critic (in the W-GAN paper the authors referred the discriminator as critic)\n",
        "disc_opt = RMSprop(lr=0.0008, clipvalue=1.0, decay=1e-8)\n",
        "disc.compile(optimizer=disc_opt, loss=wasserstein)"
      ],
      "execution_count": 0,
      "outputs": []
    },
    {
      "cell_type": "code",
      "metadata": {
        "id": "UcHC_uI_6UgY",
        "colab_type": "code",
        "colab": {}
      },
      "source": [
        "# GAN\n",
        "disc.trainable = False\n",
        "gan_input = Input(shape=(latent_dim, ))\n",
        "gan_output = disc(generator(gan_input))\n",
        "gan = Model(gan_input, gan_output)\n",
        "\n",
        "gan_opt = RMSprop(lr=0.0008, clipvalue=1.0, decay=1e-8)\n",
        "gan.compile(loss=wasserstein, optimizer=gan_opt)"
      ],
      "execution_count": 0,
      "outputs": []
    },
    {
      "cell_type": "code",
      "metadata": {
        "id": "pNDMYQAS6Ugb",
        "colab_type": "code",
        "outputId": "21ff81ea-a22f-410d-8885-7a2775f6f97c",
        "colab": {
          "base_uri": "https://localhost:8080/",
          "height": 255
        }
      },
      "source": [
        "gan.summary()"
      ],
      "execution_count": 16,
      "outputs": [
        {
          "output_type": "stream",
          "text": [
            "Model: \"model\"\n",
            "_________________________________________________________________\n",
            "Layer (type)                 Output Shape              Param #   \n",
            "=================================================================\n",
            "input_1 (InputLayer)         [(None, 100)]             0         \n",
            "_________________________________________________________________\n",
            "sequential (Sequential)      (None, 28, 28, 1)         1727233   \n",
            "_________________________________________________________________\n",
            "sequential_1 (Sequential)    (None, 1)                 1658753   \n",
            "=================================================================\n",
            "Total params: 3,385,986\n",
            "Trainable params: 1,719,873\n",
            "Non-trainable params: 1,666,113\n",
            "_________________________________________________________________\n"
          ],
          "name": "stdout"
        }
      ]
    },
    {
      "cell_type": "code",
      "metadata": {
        "id": "WU5OWHyXJGRO",
        "colab_type": "code",
        "outputId": "22e88299-f80f-402d-ff5f-4ff442311e9d",
        "colab": {
          "base_uri": "https://localhost:8080/",
          "height": 496
        }
      },
      "source": [
        "disc.summary()"
      ],
      "execution_count": 17,
      "outputs": [
        {
          "output_type": "stream",
          "text": [
            "Model: \"sequential_1\"\n",
            "_________________________________________________________________\n",
            "Layer (type)                 Output Shape              Param #   \n",
            "=================================================================\n",
            "conv2d (Conv2D)              (None, 14, 14, 32)        832       \n",
            "_________________________________________________________________\n",
            "leaky_re_lu_3 (LeakyReLU)    (None, 14, 14, 32)        0         \n",
            "_________________________________________________________________\n",
            "conv2d_1 (Conv2D)            (None, 7, 7, 64)          51264     \n",
            "_________________________________________________________________\n",
            "leaky_re_lu_4 (LeakyReLU)    (None, 7, 7, 64)          0         \n",
            "_________________________________________________________________\n",
            "flatten (Flatten)            (None, 3136)              0         \n",
            "_________________________________________________________________\n",
            "dense_2 (Dense)              (None, 512)               1606144   \n",
            "_________________________________________________________________\n",
            "leaky_re_lu_5 (LeakyReLU)    (None, 512)               0         \n",
            "_________________________________________________________________\n",
            "dropout (Dropout)            (None, 512)               0         \n",
            "_________________________________________________________________\n",
            "dense_3 (Dense)              (None, 1)                 513       \n",
            "=================================================================\n",
            "WARNING:tensorflow:Discrepancy between trainable weights and collected trainable weights, did you set `model.trainable` without calling `model.compile` after ?\n",
            "Total params: 3,317,506\n",
            "Trainable params: 1,658,753\n",
            "Non-trainable params: 1,658,753\n",
            "_________________________________________________________________\n"
          ],
          "name": "stdout"
        }
      ]
    },
    {
      "cell_type": "code",
      "metadata": {
        "id": "2WQMsO_56Ugd",
        "colab_type": "code",
        "colab": {}
      },
      "source": [
        "# Constants\n",
        "epochs = 6000 # to train with 10000\n",
        "batch_size = 20\n",
        "clip_threshold = 0.01"
      ],
      "execution_count": 0,
      "outputs": []
    },
    {
      "cell_type": "code",
      "metadata": {
        "id": "6UC3CtAkdYoM",
        "colab_type": "code",
        "colab": {}
      },
      "source": [
        "# Initialize two empty arrays to store the losses\n",
        "d_losses = list()\n",
        "a_losses = list()"
      ],
      "execution_count": 0,
      "outputs": []
    },
    {
      "cell_type": "code",
      "metadata": {
        "id": "KVKRE7PD6Ugg",
        "colab_type": "code",
        "outputId": "c81ccc4f-3622-45a1-be03-2bbeebd938d8",
        "colab": {
          "base_uri": "https://localhost:8080/",
          "height": 238
        }
      },
      "source": [
        "# Train W-GAN\n",
        "start = 0\n",
        "\n",
        "for epoch in tqdm(range(epochs)):\n",
        "    # Sample random noise from a normal distribution\n",
        "    benchmark_noise = np.random.normal(size=(batch_size, latent_dim))\n",
        "    # Map this noise to images via the generator network\n",
        "    generated_images = generator.predict(benchmark_noise)\n",
        "    \n",
        "    # Calculate where to stop the current epoch, segregate the current batch\n",
        "    # of real images and combine them with the fake ones\n",
        "    stop = start + batch_size\n",
        "    real_images = trainImages[start:stop]\n",
        "    combined_images = np.concatenate([generated_images, real_images])\n",
        "    \n",
        "    # -1 -> Fake images, 1 -> Real images\n",
        "    labels = np.array(([-1] * batch_size) + ([1] * batch_size)).astype(\"float\")\n",
        "    # labels += 0.05 * np.random.random(labels.shape)\n",
        "    \n",
        "    # Frequent critic updates in between generator updates\n",
        "    for _ in range(5):\n",
        "        # Shuffle the datapoints of the newly created dataset\n",
        "        (combined_images, labels) = shuffle(combined_images, labels)\n",
        "        \n",
        "        # Train the discriminator on these new dataset\n",
        "        d_loss = disc.train_on_batch(combined_images, labels)\n",
        "\n",
        "        # Enforcing Lipschitz constraint\n",
        "        for layer in disc.layers:\n",
        "            weights = layer.get_weights()\n",
        "            weights = [np.clip(w, -clip_threshold, clip_threshold) for w in weights]\n",
        "            layer.set_weights(weights)\n",
        "    \n",
        "    # Again sample random noise from a normal distribution &\n",
        "    # set the labels to such that they resemble real images to fool\n",
        "    # discriminator\n",
        "    random_latent_vectors = np.random.normal(size=(batch_size, latent_dim))\n",
        "    fake_labels = np.array([1] * batch_size)\n",
        "    \n",
        "    # Train the GAN with this random noise and fake labels, but only\n",
        "    # update the weights of generator\n",
        "    a_loss = gan.train_on_batch(random_latent_vectors, fake_labels)\n",
        "    \n",
        "    # Gather the losses for plotting\n",
        "    d_losses.append(d_loss)\n",
        "    a_losses.append(a_loss)\n",
        "\n",
        "    # Set the next batch\n",
        "    start += batch_size\n",
        "    if start > len(trainImages) - batch_size:\n",
        "        start = 0\n",
        "    \n",
        "    # Logging\n",
        "    if epoch % 500 == 0:\n",
        "        print(f\"Step: {epoch} Disc Loss: {d_loss} Adv Loss: {a_loss}\")\n",
        "        images = ((generated_images * 127.5) + 127.5).astype(\"int\")\n",
        "        images = np.repeat(images, 3, axis=-1)\n",
        "        vis = build_montages(images, (28, 28), (4, 5))[0]\n",
        "        cv2.imwrite(\"vis\" + str(epoch) + \".png\", vis)"
      ],
      "execution_count": 20,
      "outputs": [
        {
          "output_type": "stream",
          "text": [
            "  0%|          | 2/6000 [00:03<3:34:09,  2.14s/it]"
          ],
          "name": "stderr"
        },
        {
          "output_type": "stream",
          "text": [
            "Step: 0 Disc Loss: -0.07849832624197006 Adv Loss: -0.054488711059093475\n"
          ],
          "name": "stdout"
        },
        {
          "output_type": "stream",
          "text": [
            "  8%|▊         | 501/6000 [00:55<08:59, 10.19it/s]"
          ],
          "name": "stderr"
        },
        {
          "output_type": "stream",
          "text": [
            "Step: 500 Disc Loss: -0.3878280520439148 Adv Loss: 0.8104605674743652\n"
          ],
          "name": "stdout"
        },
        {
          "output_type": "stream",
          "text": [
            " 17%|█▋        | 1002/6000 [01:49<09:00,  9.24it/s]"
          ],
          "name": "stderr"
        },
        {
          "output_type": "stream",
          "text": [
            "Step: 1000 Disc Loss: -2.8633251190185547 Adv Loss: 8.540674209594727\n"
          ],
          "name": "stdout"
        },
        {
          "output_type": "stream",
          "text": [
            " 25%|██▌       | 1502/6000 [02:43<08:15,  9.08it/s]"
          ],
          "name": "stderr"
        },
        {
          "output_type": "stream",
          "text": [
            "Step: 1500 Disc Loss: -0.09789995849132538 Adv Loss: 2.7000949382781982\n"
          ],
          "name": "stdout"
        },
        {
          "output_type": "stream",
          "text": [
            " 33%|███▎      | 2002/6000 [03:37<06:44,  9.87it/s]"
          ],
          "name": "stderr"
        },
        {
          "output_type": "stream",
          "text": [
            "Step: 2000 Disc Loss: 0.014968877658247948 Adv Loss: -0.05101112276315689\n"
          ],
          "name": "stdout"
        },
        {
          "output_type": "stream",
          "text": [
            " 42%|████▏     | 2502/6000 [04:30<06:22,  9.15it/s]"
          ],
          "name": "stderr"
        },
        {
          "output_type": "stream",
          "text": [
            "Step: 2500 Disc Loss: -0.5868767499923706 Adv Loss: -1.911913514137268\n"
          ],
          "name": "stdout"
        },
        {
          "output_type": "stream",
          "text": [
            " 50%|█████     | 3002/6000 [05:24<05:26,  9.17it/s]"
          ],
          "name": "stderr"
        },
        {
          "output_type": "stream",
          "text": [
            "Step: 3000 Disc Loss: -0.6852483749389648 Adv Loss: 12.175172805786133\n"
          ],
          "name": "stdout"
        },
        {
          "output_type": "stream",
          "text": [
            " 58%|█████▊    | 3502/6000 [06:17<04:23,  9.49it/s]"
          ],
          "name": "stderr"
        },
        {
          "output_type": "stream",
          "text": [
            "Step: 3500 Disc Loss: -0.8507283329963684 Adv Loss: -17.206096649169922\n"
          ],
          "name": "stdout"
        },
        {
          "output_type": "stream",
          "text": [
            " 67%|██████▋   | 4002/6000 [07:11<03:31,  9.43it/s]"
          ],
          "name": "stderr"
        },
        {
          "output_type": "stream",
          "text": [
            "Step: 4000 Disc Loss: 0.11235339939594269 Adv Loss: 1.1030200719833374\n"
          ],
          "name": "stdout"
        },
        {
          "output_type": "stream",
          "text": [
            " 75%|███████▌  | 4502/6000 [08:05<02:36,  9.58it/s]"
          ],
          "name": "stderr"
        },
        {
          "output_type": "stream",
          "text": [
            "Step: 4500 Disc Loss: -0.2589988112449646 Adv Loss: 3.0797336101531982\n"
          ],
          "name": "stdout"
        },
        {
          "output_type": "stream",
          "text": [
            " 83%|████████▎ | 5001/6000 [08:58<01:47,  9.28it/s]"
          ],
          "name": "stderr"
        },
        {
          "output_type": "stream",
          "text": [
            "Step: 5000 Disc Loss: -0.12267482280731201 Adv Loss: 0.4443206191062927\n"
          ],
          "name": "stdout"
        },
        {
          "output_type": "stream",
          "text": [
            " 92%|█████████▏| 5502/6000 [09:51<00:54,  9.13it/s]"
          ],
          "name": "stderr"
        },
        {
          "output_type": "stream",
          "text": [
            "Step: 5500 Disc Loss: -0.2608112692832947 Adv Loss: -0.3722642958164215\n"
          ],
          "name": "stdout"
        },
        {
          "output_type": "stream",
          "text": [
            "100%|██████████| 6000/6000 [10:44<00:00,  9.39it/s]\n"
          ],
          "name": "stderr"
        }
      ]
    },
    {
      "cell_type": "code",
      "metadata": {
        "id": "lzlH2s5ElinO",
        "colab_type": "code",
        "colab": {
          "base_uri": "https://localhost:8080/",
          "height": 299
        },
        "outputId": "ae6537e3-6f4b-4604-845a-41c17195f3dd"
      },
      "source": [
        "# Plot the losses\n",
        "plt.style.use(\"ggplot\")\n",
        "plt.figure()\n",
        "plt.plot(np.arange(0, len(d_losses)), d_losses, label=\"disc_loss\")\n",
        "plt.plot(np.arange(0, len(a_losses)), a_losses, label=\"adv_loss\")\n",
        "plt.title(\"Critic and Adversarial losses\")\n",
        "plt.xlabel(\"Epoch #\")\n",
        "plt.ylabel(\"Loss\")\n",
        "plt.legend(loc=\"lower left\")\n",
        "plt.show()"
      ],
      "execution_count": 21,
      "outputs": [
        {
          "output_type": "display_data",
          "data": {
            "image/png": "[encoded data removed]",
            "text/plain": [
              "<Figure size 432x288 with 1 Axes>"
            ]
          },
          "metadata": {
            "tags": []
          }
        }
      ]
    },
    {
      "cell_type": "code",
      "metadata": {
        "id": "sadviSGyQPCI",
        "colab_type": "code",
        "outputId": "e56d2632-2a37-4b97-f33b-af9e8b4f0423",
        "colab": {
          "base_uri": "https://localhost:8080/",
          "height": 269
        }
      },
      "source": [
        "montage_1 =  plt.imread(\"vis5000.png\")\n",
        "plt.imshow(montage_1)\n",
        "plt.show()"
      ],
      "execution_count": 22,
      "outputs": [
        {
          "output_type": "display_data",
          "data": {
            "image/png": "[encoded data removed]",
            "text/plain": [
              "<Figure size 432x288 with 1 Axes>"
            ]
          },
          "metadata": {
            "tags": []
          }
        }
      ]
    },
    {
      "cell_type": "code",
      "metadata": {
        "id": "m3cwmuy3QYxG",
        "colab_type": "code",
        "outputId": "25c784d9-6164-403e-8b0f-8bba6e863486",
        "colab": {
          "base_uri": "https://localhost:8080/",
          "height": 269
        }
      },
      "source": [
        "montage_2 =  plt.imread(\"vis4000.png\")\n",
        "plt.imshow(montage_2)\n",
        "plt.show()"
      ],
      "execution_count": 23,
      "outputs": [
        {
          "output_type": "display_data",
          "data": {
            "image/png": "[encoded data removed]",
            "text/plain": [
              "<Figure size 432x288 with 1 Axes>"
            ]
          },
          "metadata": {
            "tags": []
          }
        }
      ]
    }
  ]
}